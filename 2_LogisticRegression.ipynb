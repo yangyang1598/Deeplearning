{
  "nbformat": 4,
  "nbformat_minor": 0,
  "metadata": {
    "colab": {
      "name": "2_LogisticRegression.ipynb",
      "provenance": [],
      "collapsed_sections": [],
      "include_colab_link": true
    },
    "kernelspec": {
      "name": "python3",
      "display_name": "Python 3"
    },
    "language_info": {
      "name": "python"
    }
  },
  "cells": [
    {
      "cell_type": "markdown",
      "metadata": {
        "id": "view-in-github",
        "colab_type": "text"
      },
      "source": [
        "<a href=\"https://colab.research.google.com/github/yangyang1598/Deeplearning/blob/main/2_LogisticRegression.ipynb\" target=\"_parent\"><img src=\"https://colab.research.google.com/assets/colab-badge.svg\" alt=\"Open In Colab\"/></a>"
      ]
    },
    {
      "cell_type": "markdown",
      "metadata": {
        "id": "MhaiH8f2hSHN"
      },
      "source": [
        "# 로지스틱 회귀 ( Logistic Regression )\n",
        "\n",
        ">**목차**\n",
        "1. 개념정리\n",
        "2. 손실함수 : 크로스 엔트로피 (Cross Entropy)\n",
        "3. 실습\n"
      ]
    },
    {
      "cell_type": "code",
      "metadata": {
        "id": "2VW4g5_Ogrng"
      },
      "source": [
        "import numpy as np\n",
        "import matplotlib.pyplot as plt\n",
        "from tensorflow.keras.models import Sequential\n",
        "from tensorflow.keras.layers import Dense\n",
        "from tensorflow.keras import optimizers"
      ],
      "execution_count": null,
      "outputs": []
    },
    {
      "cell_type": "markdown",
      "metadata": {
        "id": "Xspd1KqyT9ab"
      },
      "source": [
        "## 1. 개념정리\n",
        "---\n",
        "\n",
        "\n",
        "<br>\n",
        "\n",
        "###<center> < 가설 > </center>\n",
        "###  <center>$f(x)=\\sigma(xW+b)$</center>\n",
        "\n",
        "<br>\n",
        "\n",
        "### <center> < 목적 > </center>\n",
        "### <center>$(w^{*}, b^{*})=arg \\; min \\;J(y, \\hat{y})$</center>\n",
        "### <center> $ =arg \\; min \\;J(y, f(x))$</center>\n",
        "### <center> $ =arg \\; min \\;J(y, \\sigma(xW+b))$</center>"
      ]
    },
    {
      "cell_type": "markdown",
      "metadata": {
        "id": "wJvI8FdoNwM6"
      },
      "source": [
        "### **시그모이드 함수 ( Sigmoid funtion )**\n",
        "\n",
        "</br>\n",
        "\n",
        "### <center>$H(x) = \\frac{1}{1+e^{(-x)}} = \\sigma(x)$</center>\n",
        "\n",
        "**<center> e(e=2.718281..):**  자연 상수"
      ]
    },
    {
      "cell_type": "markdown",
      "metadata": {
        "id": "yVrRMqlSxD2L"
      },
      "source": [
        "* 구현"
      ]
    },
    {
      "cell_type": "code",
      "metadata": {
        "id": "l6vzKZkrNX5O"
      },
      "source": [
        "def sigmoid(x):\n",
        "  return 1/(1+np.exp(-x))"
      ],
      "execution_count": null,
      "outputs": []
    },
    {
      "cell_type": "markdown",
      "metadata": {
        "id": "I8Lpa78pmWZT"
      },
      "source": [
        "* 시각화"
      ]
    },
    {
      "cell_type": "code",
      "metadata": {
        "id": "ZE925IHilr5L",
        "colab": {
          "base_uri": "https://localhost:8080/",
          "height": 265
        },
        "outputId": "2d280d33-7d1b-459d-e790-a546978798f3"
      },
      "source": [
        "x_arr=np.arange(-5,5,0.1)\n",
        "y_arr=[]\n",
        "for x in x_arr:\n",
        "  y=sigmoid(x)\n",
        "  y_arr.append(y)\n",
        "\n",
        "y_arr=np.array(y_arr)\n",
        "plt.plot(x_arr, y_arr)\n",
        "plt.show()\n",
        "\n"
      ],
      "execution_count": null,
      "outputs": [
        {
          "output_type": "display_data",
          "data": {
            "image/png": "[encoded data removed]",
            "text/plain": [
              "<Figure size 432x288 with 1 Axes>"
            ]
          },
          "metadata": {
            "needs_background": "light"
          }
        }
      ]
    },
    {
      "cell_type": "markdown",
      "metadata": {
        "id": "SzKxctP_YrtO"
      },
      "source": [
        "### **가설 구현**\n",
        "###<center>$f(x)=\\sigma(xW+b)$</center>"
      ]
    },
    {
      "cell_type": "code",
      "metadata": {
        "id": "itvJt9yRkZib"
      },
      "source": [
        "def hypothesis(x,W,b=0):\n",
        "  return sigmoid(np.dot(x,W)+b)"
      ],
      "execution_count": null,
      "outputs": []
    },
    {
      "cell_type": "markdown",
      "metadata": {
        "id": "heC50xSfZ28d"
      },
      "source": [
        "### **예제**\n",
        "\n",
        "|라운드점수(X)|종합점수|결과(Y)\n",
        "|------|---|---|\n",
        "|-3|1|패배|\n",
        "|-2|1|패배|\n",
        "|-1|2|패배|\n",
        "|0|3|패배|\n",
        "|1|5|승리|\n",
        "|2|8|승리|\n",
        "|3|9|승리|\n"
      ]
    },
    {
      "cell_type": "markdown",
      "metadata": {
        "id": "31x3U7SB2ziD"
      },
      "source": [
        "* 데이터 정의\n",
        "\n"
      ]
    },
    {
      "cell_type": "code",
      "metadata": {
        "id": "IAi3_LvS1BYj",
        "colab": {
          "base_uri": "https://localhost:8080/"
        },
        "outputId": "a52b1960-4959-4bf2-f908-32b8f4f522d6"
      },
      "source": [
        "X=np.array([[-3],[-2],[-1],[0],[1],[2],[3]])\n",
        "Y=np.array([[0],[0],[0],[0],[1],[1],[1]])\n",
        "\n",
        "X[0].shape,Y[0].shape"
      ],
      "execution_count": null,
      "outputs": [
        {
          "output_type": "execute_result",
          "data": {
            "text/plain": [
              "((1,), (1,))"
            ]
          },
          "metadata": {},
          "execution_count": 46
        }
      ]
    },
    {
      "cell_type": "markdown",
      "metadata": {
        "id": "RVfGUYHqZqNY"
      },
      "source": [
        "* 예측"
      ]
    },
    {
      "cell_type": "code",
      "metadata": {
        "id": "jFmDoJ3JZqH2",
        "colab": {
          "base_uri": "https://localhost:8080/"
        },
        "outputId": "e8d4d704-ef0e-4f46-ae6e-ea375513ae0e"
      },
      "source": [
        "W=np.array([[1]])\n",
        "W.shape\n",
        "for x in X:\n",
        "  y_pred=hypothesis(x,W)\n",
        "  print(x,y_pred)"
      ],
      "execution_count": null,
      "outputs": [
        {
          "output_type": "stream",
          "name": "stdout",
          "text": [
            "[-3] [0.04742587]\n",
            "[-2] [0.11920292]\n",
            "[-1] [0.26894142]\n",
            "[0] [0.5]\n",
            "[1] [0.73105858]\n",
            "[2] [0.88079708]\n",
            "[3] [0.95257413]\n"
          ]
        }
      ]
    },
    {
      "cell_type": "markdown",
      "metadata": {
        "id": "umk0_qavR02D"
      },
      "source": [
        "* 시각화"
      ]
    },
    {
      "cell_type": "code",
      "metadata": {
        "id": "0l7xoCQu34Xs",
        "colab": {
          "base_uri": "https://localhost:8080/",
          "height": 283
        },
        "outputId": "78c2efe3-2001-4757-b34c-7f2dbc543786"
      },
      "source": [
        "plt.plot(X,Y,marker='o',linestyle='',color='k')"
      ],
      "execution_count": null,
      "outputs": [
        {
          "output_type": "execute_result",
          "data": {
            "text/plain": [
              "[<matplotlib.lines.Line2D at 0x7efc99b83a90>]"
            ]
          },
          "metadata": {},
          "execution_count": 48
        },
        {
          "output_type": "display_data",
          "data": {
            "image/png": "[encoded data removed]",
            "text/plain": [
              "<Figure size 432x288 with 1 Axes>"
            ]
          },
          "metadata": {
            "needs_background": "light"
          }
        }
      ]
    },
    {
      "cell_type": "markdown",
      "metadata": {
        "id": "RV3J6Y2ab_8W"
      },
      "source": [
        "### **학습 파라미터**"
      ]
    },
    {
      "cell_type": "markdown",
      "metadata": {
        "id": "KLLjZVusxLKz"
      },
      "source": [
        "* W 값에 따른 함수의 변화"
      ]
    },
    {
      "cell_type": "code",
      "metadata": {
        "id": "JKLMraWYOUuV",
        "colab": {
          "base_uri": "https://localhost:8080/",
          "height": 265
        },
        "outputId": "f7deeee2-1070-4967-de00-22e53c569910"
      },
      "source": [
        "plt.plot(X, Y, marker='o', linestyle='', color='k')\n",
        "\n",
        "W = np.array([[0.5]])\n",
        "plt.plot(X, [hypothesis(x,W) for x in X], color='r')\n",
        "\n",
        "W = np.array([[1]])\n",
        "plt.plot(X, [hypothesis(x,W) for x in X], color='g')\n",
        "\n",
        "W = np.array([[2]])\n",
        "plt.plot(X, [hypothesis(x,W) for x in X], color='b')\n",
        "\n",
        "plt.legend(['data', 'w=0.5', 'w=1.0', 'w=2.0'])\n",
        "plt.show()"
      ],
      "execution_count": null,
      "outputs": [
        {
          "output_type": "display_data",
          "data": {
            "image/png": "[encoded data removed]",
            "text/plain": [
              "<Figure size 432x288 with 1 Axes>"
            ]
          },
          "metadata": {
            "needs_background": "light"
          }
        }
      ]
    },
    {
      "cell_type": "markdown",
      "metadata": {
        "id": "EkTSQTbTxNwj"
      },
      "source": [
        "* b값에 따른 함수의 변화"
      ]
    },
    {
      "cell_type": "code",
      "metadata": {
        "id": "nE5H5bXbO-DK",
        "colab": {
          "base_uri": "https://localhost:8080/",
          "height": 265
        },
        "outputId": "081ba9c4-9705-442e-fe7f-da50041657ce"
      },
      "source": [
        "plt.plot(X, Y, marker='o', linestyle='', color='k')\n",
        "W = np.array([[2]])\n",
        "\n",
        "b=-1\n",
        "plt.plot(X, [hypothesis(x,W,b) for x in X], color='r')\n",
        "\n",
        "b=0\n",
        "plt.plot(X, [hypothesis(x,W,b) for x in X], color='g')\n",
        "\n",
        "b=1\n",
        "plt.plot(X, [hypothesis(x,W,b) for x in X], color='b')\n",
        "\n",
        "plt.legend(['data', 'b=-1', 'b=0', 'b=1'])\n",
        "plt.show()"
      ],
      "execution_count": null,
      "outputs": [
        {
          "output_type": "display_data",
          "data": {
            "image/png": "[encoded data removed]",
            "text/plain": [
              "<Figure size 432x288 with 1 Axes>"
            ]
          },
          "metadata": {
            "needs_background": "light"
          }
        }
      ]
    },
    {
      "cell_type": "markdown",
      "metadata": {
        "id": "OhHRBWI4p2ZV"
      },
      "source": [
        "## 2. 손실함수: 크로스 엔트로피 (Cross Entropy)\n",
        "---\n",
        "\n",
        "</br>\n",
        "\n",
        "## <center>$J(W) = -\\frac{1}{n}\\sum_{i=1}^{n}[y^{(i)}log(\\hat{y}^{(i)})+(1-y^{(i)})log(1-\\hat{y}^{(i)})]$</center>\n",
        "\n",
        "</br>\n",
        "\n",
        "<center> $y = 1 \\rightarrow cost(y, \\hat{y}) = -log(\\hat{y})$</center>\n",
        "<center> $y = 0 \\rightarrow cost(y, \\hat{y}) = -log(1-\\hat{y})$</center>\n"
      ]
    },
    {
      "cell_type": "markdown",
      "metadata": {
        "id": "NbYJ77nVptoc"
      },
      "source": [
        "* 구현"
      ]
    },
    {
      "cell_type": "code",
      "metadata": {
        "id": "5z7FDrN_pLfa"
      },
      "source": [
        "def J(y,y_pred):\n",
        "  if y==1:\n",
        "    return -(np.log10(y_pred))\n",
        "  elif y==0:\n",
        "    return -(np.log10(1-y_pred))\n",
        "  else:\n",
        "    return 0"
      ],
      "execution_count": null,
      "outputs": []
    },
    {
      "cell_type": "markdown",
      "metadata": {
        "id": "s-eyWaHypvOE"
      },
      "source": [
        "* 시각화"
      ]
    },
    {
      "cell_type": "code",
      "metadata": {
        "id": "BUYYMkh4rRn7",
        "colab": {
          "base_uri": "https://localhost:8080/",
          "height": 280
        },
        "outputId": "31aa2b99-b9eb-4be8-84b5-e475faebee82"
      },
      "source": [
        "y_pred_arr=np.arange(0.1,1,0.1)\n",
        "for y_pred in y_pred_arr:\n",
        "  plt.plot(y_pred,J(1,y_pred),marker='o',color='b')\n",
        "  plt.plot(y_pred,J(0,y_pred),marker='o',color='r')\n",
        "\n",
        "plt.xlabel(\"y_pred\")\n",
        "plt.ylabel(\"Loss=J(y,y_pred)\")\n",
        "plt.show()"
      ],
      "execution_count": null,
      "outputs": [
        {
          "output_type": "display_data",
          "data": {
            "image/png": "[encoded data removed]",
            "text/plain": [
              "<Figure size 432x288 with 1 Axes>"
            ]
          },
          "metadata": {
            "needs_background": "light"
          }
        }
      ]
    },
    {
      "cell_type": "markdown",
      "metadata": {
        "id": "dcvlzGY7w7_N"
      },
      "source": [
        "\n",
        "## 3. 실습\n",
        "---"
      ]
    },
    {
      "cell_type": "markdown",
      "metadata": {
        "id": "lERyWr69x0hT"
      },
      "source": [
        "### **데이터**\n",
        "|공부시간|집중도|수면시간|종합성적|합격여부|\n",
        "|------|---|---|---|---|\n",
        "|0|1|9|0|불합격|\n",
        "|1|1|8.5|11|불합격|\n",
        "|2|2|8|23|불합격|\n",
        "|3|4|8|30|불합격|\n",
        "|4|3|7|44|불합격|\n",
        "|5|5|7.5|55|합격|\n",
        "|6|6|7|61|합격|\n",
        "|7|6|6|73|합격|\n",
        "|8|7|7|84|합격|\n",
        "|9|6|6.5|98|합격|"
      ]
    },
    {
      "cell_type": "markdown",
      "metadata": {
        "id": "W05K5U6jr4hF"
      },
      "source": [
        "* 데이터 정의"
      ]
    },
    {
      "cell_type": "code",
      "metadata": {
        "id": "O8Azp_7AhYc3"
      },
      "source": [
        "X = np.array([[0,1,9,0],\n",
        "      [1,1,8.5,1.1],\n",
        "      [2,2,8,2.3],\n",
        "      [3,4,8,3.0],\n",
        "      [4,3,7,4.4],\n",
        "     [5,5,7.5,5.5],\n",
        "     [6,6,7,6.1],\n",
        "     [7,6,6,7.3],\n",
        "     [8,7,7,8.4],\n",
        "     [9,6,6.5,9.8]\n",
        "     ])\n",
        "Y = np.array([0,0,0,0,0,1,1,1,1,1])\n",
        "\n",
        "     "
      ],
      "execution_count": null,
      "outputs": []
    },
    {
      "cell_type": "markdown",
      "metadata": {
        "id": "vKgnvyq0NIio"
      },
      "source": [
        "* 시각화 "
      ]
    },
    {
      "cell_type": "code",
      "metadata": {
        "id": "XE61QbZViBcv",
        "colab": {
          "base_uri": "https://localhost:8080/",
          "height": 283
        },
        "outputId": "6b9674c7-6058-4e3c-8223-7afab3fe09e7"
      },
      "source": [
        "plt.plot(Y,marker='o',linestyle='')\n",
        "plt.show"
      ],
      "execution_count": null,
      "outputs": [
        {
          "output_type": "execute_result",
          "data": {
            "text/plain": [
              "<function matplotlib.pyplot.show>"
            ]
          },
          "metadata": {},
          "execution_count": 73
        },
        {
          "output_type": "display_data",
          "data": {
            "image/png": "[encoded data removed]",
            "text/plain": [
              "<Figure size 432x288 with 1 Axes>"
            ]
          },
          "metadata": {
            "needs_background": "light"
          }
        }
      ]
    },
    {
      "cell_type": "markdown",
      "metadata": {
        "id": "sjzd0-TyxwDM"
      },
      "source": [
        "###  **모델 생성**"
      ]
    },
    {
      "cell_type": "markdown",
      "metadata": {
        "id": "w341U_IMr_Ay"
      },
      "source": [
        "* 케라스를 이용한 모델 구현"
      ]
    },
    {
      "cell_type": "code",
      "metadata": {
        "id": "_U2vEe_sN-Hd",
        "colab": {
          "base_uri": "https://localhost:8080/"
        },
        "outputId": "8927a6c2-614a-4696-dfd3-98aa1180df62"
      },
      "source": [
        "model=Sequential()\n",
        "model.add(Dense(1,input_dim=4,activation='sigmoid'))\n",
        "model.summary()"
      ],
      "execution_count": null,
      "outputs": [
        {
          "output_type": "stream",
          "name": "stdout",
          "text": [
            "Model: \"sequential_1\"\n",
            "_________________________________________________________________\n",
            "Layer (type)                 Output Shape              Param #   \n",
            "=================================================================\n",
            "dense_1 (Dense)              (None, 1)                 5         \n",
            "=================================================================\n",
            "Total params: 5\n",
            "Trainable params: 5\n",
            "Non-trainable params: 0\n",
            "_________________________________________________________________\n"
          ]
        }
      ]
    },
    {
      "cell_type": "markdown",
      "metadata": {
        "id": "OBKpPVHFyTsb"
      },
      "source": [
        "* 학습 파라미터 확인"
      ]
    },
    {
      "cell_type": "code",
      "metadata": {
        "id": "9hHOMXhkyPXa",
        "colab": {
          "base_uri": "https://localhost:8080/"
        },
        "outputId": "84f624ca-2332-49dd-a210-4027e8eec2fd"
      },
      "source": [
        "W=model.get_weights()[0]\n",
        "b=model.get_weights()[1]\n",
        "\n",
        "print(\"W:\",W,\"b:\",b)"
      ],
      "execution_count": null,
      "outputs": [
        {
          "output_type": "stream",
          "name": "stdout",
          "text": [
            "W: [[ 0.56433487]\n",
            " [-0.3805111 ]\n",
            " [ 0.48215914]\n",
            " [ 0.2525165 ]] b: [0.]\n"
          ]
        }
      ]
    },
    {
      "cell_type": "markdown",
      "metadata": {
        "id": "wfC7jd1tsKgr"
      },
      "source": [
        "* 시각화"
      ]
    },
    {
      "cell_type": "code",
      "metadata": {
        "id": "vKTNcPF3zaPk",
        "colab": {
          "base_uri": "https://localhost:8080/",
          "height": 283
        },
        "outputId": "ef38a42a-e06d-49e9-c793-a7675330ee2c"
      },
      "source": [
        "Y_pred=model.predict(X)\n",
        "print(Y.shape,Y_pred.shape)\n",
        "\n",
        "plt.plot(Y,marker='o',linestyle='')\n",
        "plt.plot(Y_pred,marker='.',linestyle='--')\n",
        "plt.show()"
      ],
      "execution_count": null,
      "outputs": [
        {
          "output_type": "stream",
          "name": "stdout",
          "text": [
            "(10,) (10, 1)\n"
          ]
        },
        {
          "output_type": "display_data",
          "data": {
            "image/png": "[encoded data removed]",
            "text/plain": [
              "<Figure size 432x288 with 1 Axes>"
            ]
          },
          "metadata": {
            "needs_background": "light"
          }
        }
      ]
    },
    {
      "cell_type": "markdown",
      "metadata": {
        "id": "GpvKk6lsymbd"
      },
      "source": [
        "### **모델 학습**"
      ]
    },
    {
      "cell_type": "markdown",
      "metadata": {
        "id": "VaLNy_3atLZ8"
      },
      "source": [
        "* 모델 컴파일"
      ]
    },
    {
      "cell_type": "code",
      "metadata": {
        "id": "j6zS1DtnyTOT"
      },
      "source": [
        "model.compile(loss='binary_crossentropy',optimizer=optimizers.SGD(learning_rate=0.01),metrics=['acc'])"
      ],
      "execution_count": null,
      "outputs": []
    },
    {
      "cell_type": "markdown",
      "metadata": {
        "id": "ZxywaIertNp0"
      },
      "source": [
        "\n",
        "* 학습 진행"
      ]
    },
    {
      "cell_type": "code",
      "metadata": {
        "id": "JSW0c3Lzypip",
        "colab": {
          "base_uri": "https://localhost:8080/"
        },
        "outputId": "13228c61-656e-4661-ce99-90b9bd7336a2"
      },
      "source": [
        "model.fit(X,Y,epochs=300)"
      ],
      "execution_count": null,
      "outputs": [
        {
          "output_type": "stream",
          "name": "stdout",
          "text": [
            "Epoch 1/300\n",
            "1/1 [==============================] - 0s 375ms/step - loss: 2.3769 - acc: 0.5000\n",
            "Epoch 2/300\n",
            "1/1 [==============================] - 0s 8ms/step - loss: 2.1818 - acc: 0.5000\n",
            "Epoch 3/300\n",
            "1/1 [==============================] - 0s 11ms/step - loss: 1.9891 - acc: 0.5000\n",
            "Epoch 4/300\n",
            "1/1 [==============================] - 0s 7ms/step - loss: 1.8000 - acc: 0.5000\n",
            "Epoch 5/300\n",
            "1/1 [==============================] - 0s 8ms/step - loss: 1.6162 - acc: 0.5000\n",
            "Epoch 6/300\n",
            "1/1 [==============================] - 0s 6ms/step - loss: 1.4398 - acc: 0.5000\n",
            "Epoch 7/300\n",
            "1/1 [==============================] - 0s 6ms/step - loss: 1.2736 - acc: 0.5000\n",
            "Epoch 8/300\n",
            "1/1 [==============================] - 0s 7ms/step - loss: 1.1209 - acc: 0.5000\n",
            "Epoch 9/300\n",
            "1/1 [==============================] - 0s 6ms/step - loss: 0.9848 - acc: 0.5000\n",
            "Epoch 10/300\n",
            "1/1 [==============================] - 0s 7ms/step - loss: 0.8683 - acc: 0.5000\n",
            "Epoch 11/300\n",
            "1/1 [==============================] - 0s 8ms/step - loss: 0.7725 - acc: 0.5000\n",
            "Epoch 12/300\n",
            "1/1 [==============================] - 0s 10ms/step - loss: 0.6971 - acc: 0.5000\n",
            "Epoch 13/300\n",
            "1/1 [==============================] - 0s 9ms/step - loss: 0.6397 - acc: 0.5000\n",
            "Epoch 14/300\n",
            "1/1 [==============================] - 0s 12ms/step - loss: 0.5968 - acc: 0.6000\n",
            "Epoch 15/300\n",
            "1/1 [==============================] - 0s 7ms/step - loss: 0.5648 - acc: 0.6000\n",
            "Epoch 16/300\n",
            "1/1 [==============================] - 0s 7ms/step - loss: 0.5405 - acc: 0.7000\n",
            "Epoch 17/300\n",
            "1/1 [==============================] - 0s 8ms/step - loss: 0.5214 - acc: 0.7000\n",
            "Epoch 18/300\n",
            "1/1 [==============================] - 0s 6ms/step - loss: 0.5057 - acc: 0.8000\n",
            "Epoch 19/300\n",
            "1/1 [==============================] - 0s 5ms/step - loss: 0.4923 - acc: 0.8000\n",
            "Epoch 20/300\n",
            "1/1 [==============================] - 0s 6ms/step - loss: 0.4804 - acc: 0.9000\n",
            "Epoch 21/300\n",
            "1/1 [==============================] - 0s 7ms/step - loss: 0.4698 - acc: 0.9000\n",
            "Epoch 22/300\n",
            "1/1 [==============================] - 0s 6ms/step - loss: 0.4599 - acc: 0.9000\n",
            "Epoch 23/300\n",
            "1/1 [==============================] - 0s 8ms/step - loss: 0.4508 - acc: 0.9000\n",
            "Epoch 24/300\n",
            "1/1 [==============================] - 0s 8ms/step - loss: 0.4422 - acc: 0.9000\n",
            "Epoch 25/300\n",
            "1/1 [==============================] - 0s 5ms/step - loss: 0.4340 - acc: 0.9000\n",
            "Epoch 26/300\n",
            "1/1 [==============================] - 0s 6ms/step - loss: 0.4263 - acc: 0.9000\n",
            "Epoch 27/300\n",
            "1/1 [==============================] - 0s 7ms/step - loss: 0.4190 - acc: 0.9000\n",
            "Epoch 28/300\n",
            "1/1 [==============================] - 0s 5ms/step - loss: 0.4120 - acc: 0.9000\n",
            "Epoch 29/300\n",
            "1/1 [==============================] - 0s 6ms/step - loss: 0.4054 - acc: 0.9000\n",
            "Epoch 30/300\n",
            "1/1 [==============================] - 0s 7ms/step - loss: 0.3990 - acc: 0.9000\n",
            "Epoch 31/300\n",
            "1/1 [==============================] - 0s 6ms/step - loss: 0.3930 - acc: 0.9000\n",
            "Epoch 32/300\n",
            "1/1 [==============================] - 0s 7ms/step - loss: 0.3872 - acc: 0.9000\n",
            "Epoch 33/300\n",
            "1/1 [==============================] - 0s 6ms/step - loss: 0.3816 - acc: 0.9000\n",
            "Epoch 34/300\n",
            "1/1 [==============================] - 0s 5ms/step - loss: 0.3763 - acc: 0.9000\n",
            "Epoch 35/300\n",
            "1/1 [==============================] - 0s 6ms/step - loss: 0.3711 - acc: 0.9000\n",
            "Epoch 36/300\n",
            "1/1 [==============================] - 0s 6ms/step - loss: 0.3662 - acc: 0.9000\n",
            "Epoch 37/300\n",
            "1/1 [==============================] - 0s 7ms/step - loss: 0.3615 - acc: 0.9000\n",
            "Epoch 38/300\n",
            "1/1 [==============================] - 0s 8ms/step - loss: 0.3569 - acc: 0.9000\n",
            "Epoch 39/300\n",
            "1/1 [==============================] - 0s 8ms/step - loss: 0.3526 - acc: 0.9000\n",
            "Epoch 40/300\n",
            "1/1 [==============================] - 0s 8ms/step - loss: 0.3484 - acc: 0.9000\n",
            "Epoch 41/300\n",
            "1/1 [==============================] - 0s 11ms/step - loss: 0.3443 - acc: 0.9000\n",
            "Epoch 42/300\n",
            "1/1 [==============================] - 0s 6ms/step - loss: 0.3404 - acc: 0.9000\n",
            "Epoch 43/300\n",
            "1/1 [==============================] - 0s 6ms/step - loss: 0.3366 - acc: 0.9000\n",
            "Epoch 44/300\n",
            "1/1 [==============================] - 0s 5ms/step - loss: 0.3329 - acc: 0.9000\n",
            "Epoch 45/300\n",
            "1/1 [==============================] - 0s 5ms/step - loss: 0.3294 - acc: 0.9000\n",
            "Epoch 46/300\n",
            "1/1 [==============================] - 0s 6ms/step - loss: 0.3260 - acc: 0.9000\n",
            "Epoch 47/300\n",
            "1/1 [==============================] - 0s 7ms/step - loss: 0.3227 - acc: 0.9000\n",
            "Epoch 48/300\n",
            "1/1 [==============================] - 0s 11ms/step - loss: 0.3195 - acc: 0.9000\n",
            "Epoch 49/300\n",
            "1/1 [==============================] - 0s 12ms/step - loss: 0.3164 - acc: 0.9000\n",
            "Epoch 50/300\n",
            "1/1 [==============================] - 0s 13ms/step - loss: 0.3134 - acc: 0.9000\n",
            "Epoch 51/300\n",
            "1/1 [==============================] - 0s 22ms/step - loss: 0.3105 - acc: 0.9000\n",
            "Epoch 52/300\n",
            "1/1 [==============================] - 0s 16ms/step - loss: 0.3076 - acc: 0.9000\n",
            "Epoch 53/300\n",
            "1/1 [==============================] - 0s 7ms/step - loss: 0.3049 - acc: 0.9000\n",
            "Epoch 54/300\n",
            "1/1 [==============================] - 0s 7ms/step - loss: 0.3022 - acc: 0.9000\n",
            "Epoch 55/300\n",
            "1/1 [==============================] - 0s 7ms/step - loss: 0.2996 - acc: 0.9000\n",
            "Epoch 56/300\n",
            "1/1 [==============================] - 0s 7ms/step - loss: 0.2971 - acc: 0.9000\n",
            "Epoch 57/300\n",
            "1/1 [==============================] - 0s 5ms/step - loss: 0.2947 - acc: 0.9000\n",
            "Epoch 58/300\n",
            "1/1 [==============================] - 0s 14ms/step - loss: 0.2923 - acc: 0.9000\n",
            "Epoch 59/300\n",
            "1/1 [==============================] - 0s 10ms/step - loss: 0.2900 - acc: 0.9000\n",
            "Epoch 60/300\n",
            "1/1 [==============================] - 0s 7ms/step - loss: 0.2877 - acc: 0.9000\n",
            "Epoch 61/300\n",
            "1/1 [==============================] - 0s 6ms/step - loss: 0.2855 - acc: 0.9000\n",
            "Epoch 62/300\n",
            "1/1 [==============================] - 0s 6ms/step - loss: 0.2834 - acc: 0.9000\n",
            "Epoch 63/300\n",
            "1/1 [==============================] - 0s 7ms/step - loss: 0.2813 - acc: 0.9000\n",
            "Epoch 64/300\n",
            "1/1 [==============================] - 0s 5ms/step - loss: 0.2792 - acc: 0.9000\n",
            "Epoch 65/300\n",
            "1/1 [==============================] - 0s 8ms/step - loss: 0.2773 - acc: 0.9000\n",
            "Epoch 66/300\n",
            "1/1 [==============================] - 0s 5ms/step - loss: 0.2753 - acc: 0.9000\n",
            "Epoch 67/300\n",
            "1/1 [==============================] - 0s 8ms/step - loss: 0.2734 - acc: 0.9000\n",
            "Epoch 68/300\n",
            "1/1 [==============================] - 0s 5ms/step - loss: 0.2716 - acc: 0.9000\n",
            "Epoch 69/300\n",
            "1/1 [==============================] - 0s 6ms/step - loss: 0.2698 - acc: 0.9000\n",
            "Epoch 70/300\n",
            "1/1 [==============================] - 0s 8ms/step - loss: 0.2680 - acc: 0.9000\n",
            "Epoch 71/300\n",
            "1/1 [==============================] - 0s 5ms/step - loss: 0.2663 - acc: 0.9000\n",
            "Epoch 72/300\n",
            "1/1 [==============================] - 0s 8ms/step - loss: 0.2646 - acc: 0.9000\n",
            "Epoch 73/300\n",
            "1/1 [==============================] - 0s 9ms/step - loss: 0.2629 - acc: 0.9000\n",
            "Epoch 74/300\n",
            "1/1 [==============================] - 0s 10ms/step - loss: 0.2613 - acc: 0.9000\n",
            "Epoch 75/300\n",
            "1/1 [==============================] - 0s 7ms/step - loss: 0.2597 - acc: 0.9000\n",
            "Epoch 76/300\n",
            "1/1 [==============================] - 0s 5ms/step - loss: 0.2582 - acc: 0.9000\n",
            "Epoch 77/300\n",
            "1/1 [==============================] - 0s 9ms/step - loss: 0.2567 - acc: 0.9000\n",
            "Epoch 78/300\n",
            "1/1 [==============================] - 0s 5ms/step - loss: 0.2552 - acc: 0.9000\n",
            "Epoch 79/300\n",
            "1/1 [==============================] - 0s 6ms/step - loss: 0.2537 - acc: 0.9000\n",
            "Epoch 80/300\n",
            "1/1 [==============================] - 0s 10ms/step - loss: 0.2523 - acc: 0.9000\n",
            "Epoch 81/300\n",
            "1/1 [==============================] - 0s 6ms/step - loss: 0.2509 - acc: 0.9000\n",
            "Epoch 82/300\n",
            "1/1 [==============================] - 0s 10ms/step - loss: 0.2495 - acc: 0.9000\n",
            "Epoch 83/300\n",
            "1/1 [==============================] - 0s 6ms/step - loss: 0.2482 - acc: 0.9000\n",
            "Epoch 84/300\n",
            "1/1 [==============================] - 0s 9ms/step - loss: 0.2468 - acc: 0.9000\n",
            "Epoch 85/300\n",
            "1/1 [==============================] - 0s 6ms/step - loss: 0.2455 - acc: 0.9000\n",
            "Epoch 86/300\n",
            "1/1 [==============================] - 0s 6ms/step - loss: 0.2443 - acc: 0.9000\n",
            "Epoch 87/300\n",
            "1/1 [==============================] - 0s 9ms/step - loss: 0.2430 - acc: 0.9000\n",
            "Epoch 88/300\n",
            "1/1 [==============================] - 0s 7ms/step - loss: 0.2418 - acc: 0.9000\n",
            "Epoch 89/300\n",
            "1/1 [==============================] - 0s 10ms/step - loss: 0.2406 - acc: 0.9000\n",
            "Epoch 90/300\n",
            "1/1 [==============================] - 0s 18ms/step - loss: 0.2394 - acc: 0.9000\n",
            "Epoch 91/300\n",
            "1/1 [==============================] - 0s 10ms/step - loss: 0.2382 - acc: 0.9000\n",
            "Epoch 92/300\n",
            "1/1 [==============================] - 0s 5ms/step - loss: 0.2371 - acc: 0.9000\n",
            "Epoch 93/300\n",
            "1/1 [==============================] - 0s 8ms/step - loss: 0.2360 - acc: 0.9000\n",
            "Epoch 94/300\n",
            "1/1 [==============================] - 0s 5ms/step - loss: 0.2349 - acc: 0.9000\n",
            "Epoch 95/300\n",
            "1/1 [==============================] - 0s 9ms/step - loss: 0.2338 - acc: 0.9000\n",
            "Epoch 96/300\n",
            "1/1 [==============================] - 0s 5ms/step - loss: 0.2327 - acc: 0.9000\n",
            "Epoch 97/300\n",
            "1/1 [==============================] - 0s 8ms/step - loss: 0.2317 - acc: 0.9000\n",
            "Epoch 98/300\n",
            "1/1 [==============================] - 0s 7ms/step - loss: 0.2306 - acc: 0.9000\n",
            "Epoch 99/300\n",
            "1/1 [==============================] - 0s 8ms/step - loss: 0.2296 - acc: 0.9000\n",
            "Epoch 100/300\n",
            "1/1 [==============================] - 0s 8ms/step - loss: 0.2286 - acc: 0.9000\n",
            "Epoch 101/300\n",
            "1/1 [==============================] - 0s 5ms/step - loss: 0.2276 - acc: 0.9000\n",
            "Epoch 102/300\n",
            "1/1 [==============================] - 0s 12ms/step - loss: 0.2267 - acc: 0.9000\n",
            "Epoch 103/300\n",
            "1/1 [==============================] - 0s 5ms/step - loss: 0.2257 - acc: 0.9000\n",
            "Epoch 104/300\n",
            "1/1 [==============================] - 0s 12ms/step - loss: 0.2248 - acc: 0.9000\n",
            "Epoch 105/300\n",
            "1/1 [==============================] - 0s 6ms/step - loss: 0.2238 - acc: 0.9000\n",
            "Epoch 106/300\n",
            "1/1 [==============================] - 0s 9ms/step - loss: 0.2229 - acc: 0.9000\n",
            "Epoch 107/300\n",
            "1/1 [==============================] - 0s 6ms/step - loss: 0.2220 - acc: 0.9000\n",
            "Epoch 108/300\n",
            "1/1 [==============================] - 0s 8ms/step - loss: 0.2211 - acc: 0.9000\n",
            "Epoch 109/300\n",
            "1/1 [==============================] - 0s 6ms/step - loss: 0.2203 - acc: 0.9000\n",
            "Epoch 110/300\n",
            "1/1 [==============================] - 0s 6ms/step - loss: 0.2194 - acc: 0.9000\n",
            "Epoch 111/300\n",
            "1/1 [==============================] - 0s 8ms/step - loss: 0.2186 - acc: 0.9000\n",
            "Epoch 112/300\n",
            "1/1 [==============================] - 0s 5ms/step - loss: 0.2177 - acc: 0.9000\n",
            "Epoch 113/300\n",
            "1/1 [==============================] - 0s 10ms/step - loss: 0.2169 - acc: 0.9000\n",
            "Epoch 114/300\n",
            "1/1 [==============================] - 0s 5ms/step - loss: 0.2161 - acc: 0.9000\n",
            "Epoch 115/300\n",
            "1/1 [==============================] - 0s 5ms/step - loss: 0.2153 - acc: 0.9000\n",
            "Epoch 116/300\n",
            "1/1 [==============================] - 0s 6ms/step - loss: 0.2145 - acc: 0.9000\n",
            "Epoch 117/300\n",
            "1/1 [==============================] - 0s 9ms/step - loss: 0.2137 - acc: 0.9000\n",
            "Epoch 118/300\n",
            "1/1 [==============================] - 0s 6ms/step - loss: 0.2129 - acc: 0.9000\n",
            "Epoch 119/300\n",
            "1/1 [==============================] - 0s 9ms/step - loss: 0.2122 - acc: 0.9000\n",
            "Epoch 120/300\n",
            "1/1 [==============================] - 0s 9ms/step - loss: 0.2114 - acc: 0.9000\n",
            "Epoch 121/300\n",
            "1/1 [==============================] - 0s 7ms/step - loss: 0.2107 - acc: 0.9000\n",
            "Epoch 122/300\n",
            "1/1 [==============================] - 0s 9ms/step - loss: 0.2099 - acc: 0.9000\n",
            "Epoch 123/300\n",
            "1/1 [==============================] - 0s 9ms/step - loss: 0.2092 - acc: 0.9000\n",
            "Epoch 124/300\n",
            "1/1 [==============================] - 0s 7ms/step - loss: 0.2085 - acc: 0.9000\n",
            "Epoch 125/300\n",
            "1/1 [==============================] - 0s 9ms/step - loss: 0.2078 - acc: 0.9000\n",
            "Epoch 126/300\n",
            "1/1 [==============================] - 0s 6ms/step - loss: 0.2071 - acc: 0.9000\n",
            "Epoch 127/300\n",
            "1/1 [==============================] - 0s 11ms/step - loss: 0.2064 - acc: 0.9000\n",
            "Epoch 128/300\n",
            "1/1 [==============================] - 0s 6ms/step - loss: 0.2057 - acc: 0.9000\n",
            "Epoch 129/300\n",
            "1/1 [==============================] - 0s 11ms/step - loss: 0.2051 - acc: 0.9000\n",
            "Epoch 130/300\n",
            "1/1 [==============================] - 0s 7ms/step - loss: 0.2044 - acc: 0.9000\n",
            "Epoch 131/300\n",
            "1/1 [==============================] - 0s 8ms/step - loss: 0.2037 - acc: 0.9000\n",
            "Epoch 132/300\n",
            "1/1 [==============================] - 0s 11ms/step - loss: 0.2031 - acc: 0.9000\n",
            "Epoch 133/300\n",
            "1/1 [==============================] - 0s 7ms/step - loss: 0.2025 - acc: 0.9000\n",
            "Epoch 134/300\n",
            "1/1 [==============================] - 0s 8ms/step - loss: 0.2018 - acc: 0.9000\n",
            "Epoch 135/300\n",
            "1/1 [==============================] - 0s 7ms/step - loss: 0.2012 - acc: 0.9000\n",
            "Epoch 136/300\n",
            "1/1 [==============================] - 0s 9ms/step - loss: 0.2006 - acc: 0.9000\n",
            "Epoch 137/300\n",
            "1/1 [==============================] - 0s 5ms/step - loss: 0.2000 - acc: 0.9000\n",
            "Epoch 138/300\n",
            "1/1 [==============================] - 0s 9ms/step - loss: 0.1994 - acc: 0.9000\n",
            "Epoch 139/300\n",
            "1/1 [==============================] - 0s 12ms/step - loss: 0.1988 - acc: 0.9000\n",
            "Epoch 140/300\n",
            "1/1 [==============================] - 0s 6ms/step - loss: 0.1982 - acc: 0.9000\n",
            "Epoch 141/300\n",
            "1/1 [==============================] - 0s 6ms/step - loss: 0.1976 - acc: 0.9000\n",
            "Epoch 142/300\n",
            "1/1 [==============================] - 0s 11ms/step - loss: 0.1970 - acc: 0.9000\n",
            "Epoch 143/300\n",
            "1/1 [==============================] - 0s 6ms/step - loss: 0.1964 - acc: 0.9000\n",
            "Epoch 144/300\n",
            "1/1 [==============================] - 0s 11ms/step - loss: 0.1959 - acc: 0.9000\n",
            "Epoch 145/300\n",
            "1/1 [==============================] - 0s 19ms/step - loss: 0.1953 - acc: 0.9000\n",
            "Epoch 146/300\n",
            "1/1 [==============================] - 0s 7ms/step - loss: 0.1948 - acc: 0.9000\n",
            "Epoch 147/300\n",
            "1/1 [==============================] - 0s 12ms/step - loss: 0.1942 - acc: 0.9000\n",
            "Epoch 148/300\n",
            "1/1 [==============================] - 0s 6ms/step - loss: 0.1937 - acc: 0.9000\n",
            "Epoch 149/300\n",
            "1/1 [==============================] - 0s 6ms/step - loss: 0.1931 - acc: 0.9000\n",
            "Epoch 150/300\n",
            "1/1 [==============================] - 0s 9ms/step - loss: 0.1926 - acc: 0.9000\n",
            "Epoch 151/300\n",
            "1/1 [==============================] - 0s 6ms/step - loss: 0.1921 - acc: 0.9000\n",
            "Epoch 152/300\n",
            "1/1 [==============================] - 0s 30ms/step - loss: 0.1915 - acc: 0.9000\n",
            "Epoch 153/300\n",
            "1/1 [==============================] - 0s 18ms/step - loss: 0.1910 - acc: 0.9000\n",
            "Epoch 154/300\n",
            "1/1 [==============================] - 0s 15ms/step - loss: 0.1905 - acc: 0.9000\n",
            "Epoch 155/300\n",
            "1/1 [==============================] - 0s 8ms/step - loss: 0.1900 - acc: 0.9000\n",
            "Epoch 156/300\n",
            "1/1 [==============================] - 0s 5ms/step - loss: 0.1895 - acc: 0.9000\n",
            "Epoch 157/300\n",
            "1/1 [==============================] - 0s 11ms/step - loss: 0.1890 - acc: 0.9000\n",
            "Epoch 158/300\n",
            "1/1 [==============================] - 0s 14ms/step - loss: 0.1885 - acc: 0.9000\n",
            "Epoch 159/300\n",
            "1/1 [==============================] - 0s 8ms/step - loss: 0.1880 - acc: 0.9000\n",
            "Epoch 160/300\n",
            "1/1 [==============================] - 0s 8ms/step - loss: 0.1875 - acc: 0.9000\n",
            "Epoch 161/300\n",
            "1/1 [==============================] - 0s 8ms/step - loss: 0.1871 - acc: 0.9000\n",
            "Epoch 162/300\n",
            "1/1 [==============================] - 0s 9ms/step - loss: 0.1866 - acc: 0.9000\n",
            "Epoch 163/300\n",
            "1/1 [==============================] - 0s 10ms/step - loss: 0.1861 - acc: 0.9000\n",
            "Epoch 164/300\n",
            "1/1 [==============================] - 0s 11ms/step - loss: 0.1856 - acc: 0.9000\n",
            "Epoch 165/300\n",
            "1/1 [==============================] - 0s 20ms/step - loss: 0.1852 - acc: 0.9000\n",
            "Epoch 166/300\n",
            "1/1 [==============================] - 0s 4ms/step - loss: 0.1847 - acc: 0.9000\n",
            "Epoch 167/300\n",
            "1/1 [==============================] - 0s 11ms/step - loss: 0.1843 - acc: 0.9000\n",
            "Epoch 168/300\n",
            "1/1 [==============================] - 0s 8ms/step - loss: 0.1838 - acc: 0.9000\n",
            "Epoch 169/300\n",
            "1/1 [==============================] - 0s 5ms/step - loss: 0.1834 - acc: 0.9000\n",
            "Epoch 170/300\n",
            "1/1 [==============================] - 0s 9ms/step - loss: 0.1829 - acc: 0.9000\n",
            "Epoch 171/300\n",
            "1/1 [==============================] - 0s 4ms/step - loss: 0.1825 - acc: 0.9000\n",
            "Epoch 172/300\n",
            "1/1 [==============================] - 0s 8ms/step - loss: 0.1821 - acc: 0.9000\n",
            "Epoch 173/300\n",
            "1/1 [==============================] - 0s 4ms/step - loss: 0.1816 - acc: 0.9000\n",
            "Epoch 174/300\n",
            "1/1 [==============================] - 0s 6ms/step - loss: 0.1812 - acc: 0.9000\n",
            "Epoch 175/300\n",
            "1/1 [==============================] - 0s 4ms/step - loss: 0.1808 - acc: 0.9000\n",
            "Epoch 176/300\n",
            "1/1 [==============================] - 0s 9ms/step - loss: 0.1804 - acc: 0.9000\n",
            "Epoch 177/300\n",
            "1/1 [==============================] - 0s 6ms/step - loss: 0.1800 - acc: 0.9000\n",
            "Epoch 178/300\n",
            "1/1 [==============================] - 0s 9ms/step - loss: 0.1795 - acc: 0.9000\n",
            "Epoch 179/300\n",
            "1/1 [==============================] - 0s 5ms/step - loss: 0.1791 - acc: 0.9000\n",
            "Epoch 180/300\n",
            "1/1 [==============================] - 0s 7ms/step - loss: 0.1787 - acc: 0.9000\n",
            "Epoch 181/300\n",
            "1/1 [==============================] - 0s 4ms/step - loss: 0.1783 - acc: 0.9000\n",
            "Epoch 182/300\n",
            "1/1 [==============================] - 0s 7ms/step - loss: 0.1779 - acc: 0.9000\n",
            "Epoch 183/300\n",
            "1/1 [==============================] - 0s 4ms/step - loss: 0.1775 - acc: 0.9000\n",
            "Epoch 184/300\n",
            "1/1 [==============================] - 0s 5ms/step - loss: 0.1771 - acc: 0.9000\n",
            "Epoch 185/300\n",
            "1/1 [==============================] - 0s 5ms/step - loss: 0.1768 - acc: 0.9000\n",
            "Epoch 186/300\n",
            "1/1 [==============================] - 0s 8ms/step - loss: 0.1764 - acc: 0.9000\n",
            "Epoch 187/300\n",
            "1/1 [==============================] - 0s 6ms/step - loss: 0.1760 - acc: 0.9000\n",
            "Epoch 188/300\n",
            "1/1 [==============================] - 0s 4ms/step - loss: 0.1756 - acc: 0.9000\n",
            "Epoch 189/300\n",
            "1/1 [==============================] - 0s 10ms/step - loss: 0.1752 - acc: 0.9000\n",
            "Epoch 190/300\n",
            "1/1 [==============================] - 0s 6ms/step - loss: 0.1749 - acc: 0.9000\n",
            "Epoch 191/300\n",
            "1/1 [==============================] - 0s 5ms/step - loss: 0.1745 - acc: 0.9000\n",
            "Epoch 192/300\n",
            "1/1 [==============================] - 0s 7ms/step - loss: 0.1741 - acc: 0.9000\n",
            "Epoch 193/300\n",
            "1/1 [==============================] - 0s 10ms/step - loss: 0.1737 - acc: 0.9000\n",
            "Epoch 194/300\n",
            "1/1 [==============================] - 0s 11ms/step - loss: 0.1734 - acc: 0.9000\n",
            "Epoch 195/300\n",
            "1/1 [==============================] - 0s 5ms/step - loss: 0.1730 - acc: 0.9000\n",
            "Epoch 196/300\n",
            "1/1 [==============================] - 0s 11ms/step - loss: 0.1727 - acc: 0.9000\n",
            "Epoch 197/300\n",
            "1/1 [==============================] - 0s 4ms/step - loss: 0.1723 - acc: 0.9000\n",
            "Epoch 198/300\n",
            "1/1 [==============================] - 0s 9ms/step - loss: 0.1720 - acc: 0.9000\n",
            "Epoch 199/300\n",
            "1/1 [==============================] - 0s 7ms/step - loss: 0.1716 - acc: 0.9000\n",
            "Epoch 200/300\n",
            "1/1 [==============================] - 0s 4ms/step - loss: 0.1713 - acc: 0.9000\n",
            "Epoch 201/300\n",
            "1/1 [==============================] - 0s 6ms/step - loss: 0.1709 - acc: 0.9000\n",
            "Epoch 202/300\n",
            "1/1 [==============================] - 0s 4ms/step - loss: 0.1706 - acc: 0.9000\n",
            "Epoch 203/300\n",
            "1/1 [==============================] - 0s 7ms/step - loss: 0.1702 - acc: 0.9000\n",
            "Epoch 204/300\n",
            "1/1 [==============================] - 0s 4ms/step - loss: 0.1699 - acc: 0.9000\n",
            "Epoch 205/300\n",
            "1/1 [==============================] - 0s 11ms/step - loss: 0.1696 - acc: 0.9000\n",
            "Epoch 206/300\n",
            "1/1 [==============================] - 0s 13ms/step - loss: 0.1692 - acc: 0.9000\n",
            "Epoch 207/300\n",
            "1/1 [==============================] - 0s 12ms/step - loss: 0.1689 - acc: 0.9000\n",
            "Epoch 208/300\n",
            "1/1 [==============================] - 0s 21ms/step - loss: 0.1686 - acc: 0.9000\n",
            "Epoch 209/300\n",
            "1/1 [==============================] - 0s 8ms/step - loss: 0.1682 - acc: 0.9000\n",
            "Epoch 210/300\n",
            "1/1 [==============================] - 0s 4ms/step - loss: 0.1679 - acc: 0.9000\n",
            "Epoch 211/300\n",
            "1/1 [==============================] - 0s 9ms/step - loss: 0.1676 - acc: 0.9000\n",
            "Epoch 212/300\n",
            "1/1 [==============================] - 0s 5ms/step - loss: 0.1673 - acc: 0.9000\n",
            "Epoch 213/300\n",
            "1/1 [==============================] - 0s 7ms/step - loss: 0.1670 - acc: 0.9000\n",
            "Epoch 214/300\n",
            "1/1 [==============================] - 0s 12ms/step - loss: 0.1667 - acc: 0.9000\n",
            "Epoch 215/300\n",
            "1/1 [==============================] - 0s 6ms/step - loss: 0.1663 - acc: 0.9000\n",
            "Epoch 216/300\n",
            "1/1 [==============================] - 0s 4ms/step - loss: 0.1660 - acc: 0.9000\n",
            "Epoch 217/300\n",
            "1/1 [==============================] - 0s 9ms/step - loss: 0.1657 - acc: 0.9000\n",
            "Epoch 218/300\n",
            "1/1 [==============================] - 0s 4ms/step - loss: 0.1654 - acc: 0.9000\n",
            "Epoch 219/300\n",
            "1/1 [==============================] - 0s 6ms/step - loss: 0.1651 - acc: 0.9000\n",
            "Epoch 220/300\n",
            "1/1 [==============================] - 0s 7ms/step - loss: 0.1648 - acc: 0.9000\n",
            "Epoch 221/300\n",
            "1/1 [==============================] - 0s 6ms/step - loss: 0.1645 - acc: 0.9000\n",
            "Epoch 222/300\n",
            "1/1 [==============================] - 0s 8ms/step - loss: 0.1642 - acc: 0.9000\n",
            "Epoch 223/300\n",
            "1/1 [==============================] - 0s 11ms/step - loss: 0.1639 - acc: 0.9000\n",
            "Epoch 224/300\n",
            "1/1 [==============================] - 0s 4ms/step - loss: 0.1636 - acc: 0.9000\n",
            "Epoch 225/300\n",
            "1/1 [==============================] - 0s 9ms/step - loss: 0.1633 - acc: 0.9000\n",
            "Epoch 226/300\n",
            "1/1 [==============================] - 0s 10ms/step - loss: 0.1630 - acc: 0.9000\n",
            "Epoch 227/300\n",
            "1/1 [==============================] - 0s 11ms/step - loss: 0.1627 - acc: 0.9000\n",
            "Epoch 228/300\n",
            "1/1 [==============================] - 0s 4ms/step - loss: 0.1625 - acc: 0.9000\n",
            "Epoch 229/300\n",
            "1/1 [==============================] - 0s 5ms/step - loss: 0.1622 - acc: 0.9000\n",
            "Epoch 230/300\n",
            "1/1 [==============================] - 0s 5ms/step - loss: 0.1619 - acc: 0.9000\n",
            "Epoch 231/300\n",
            "1/1 [==============================] - 0s 5ms/step - loss: 0.1616 - acc: 0.9000\n",
            "Epoch 232/300\n",
            "1/1 [==============================] - 0s 11ms/step - loss: 0.1613 - acc: 0.9000\n",
            "Epoch 233/300\n",
            "1/1 [==============================] - 0s 5ms/step - loss: 0.1610 - acc: 0.9000\n",
            "Epoch 234/300\n",
            "1/1 [==============================] - 0s 5ms/step - loss: 0.1608 - acc: 0.9000\n",
            "Epoch 235/300\n",
            "1/1 [==============================] - 0s 7ms/step - loss: 0.1605 - acc: 0.9000\n",
            "Epoch 236/300\n",
            "1/1 [==============================] - 0s 6ms/step - loss: 0.1602 - acc: 0.9000\n",
            "Epoch 237/300\n",
            "1/1 [==============================] - 0s 37ms/step - loss: 0.1599 - acc: 0.9000\n",
            "Epoch 238/300\n",
            "1/1 [==============================] - 0s 28ms/step - loss: 0.1597 - acc: 0.9000\n",
            "Epoch 239/300\n",
            "1/1 [==============================] - 0s 38ms/step - loss: 0.1594 - acc: 0.9000\n",
            "Epoch 240/300\n",
            "1/1 [==============================] - 0s 10ms/step - loss: 0.1591 - acc: 0.9000\n",
            "Epoch 241/300\n",
            "1/1 [==============================] - 0s 13ms/step - loss: 0.1589 - acc: 0.9000\n",
            "Epoch 242/300\n",
            "1/1 [==============================] - 0s 17ms/step - loss: 0.1586 - acc: 0.9000\n",
            "Epoch 243/300\n",
            "1/1 [==============================] - 0s 20ms/step - loss: 0.1583 - acc: 0.9000\n",
            "Epoch 244/300\n",
            "1/1 [==============================] - 0s 33ms/step - loss: 0.1581 - acc: 0.9000\n",
            "Epoch 245/300\n",
            "1/1 [==============================] - 0s 7ms/step - loss: 0.1578 - acc: 0.9000\n",
            "Epoch 246/300\n",
            "1/1 [==============================] - 0s 14ms/step - loss: 0.1576 - acc: 0.9000\n",
            "Epoch 247/300\n",
            "1/1 [==============================] - 0s 10ms/step - loss: 0.1573 - acc: 0.9000\n",
            "Epoch 248/300\n",
            "1/1 [==============================] - 0s 8ms/step - loss: 0.1571 - acc: 0.9000\n",
            "Epoch 249/300\n",
            "1/1 [==============================] - 0s 9ms/step - loss: 0.1568 - acc: 0.9000\n",
            "Epoch 250/300\n",
            "1/1 [==============================] - 0s 9ms/step - loss: 0.1566 - acc: 0.9000\n",
            "Epoch 251/300\n",
            "1/1 [==============================] - 0s 7ms/step - loss: 0.1563 - acc: 0.9000\n",
            "Epoch 252/300\n",
            "1/1 [==============================] - 0s 18ms/step - loss: 0.1561 - acc: 0.9000\n",
            "Epoch 253/300\n",
            "1/1 [==============================] - 0s 5ms/step - loss: 0.1558 - acc: 0.9000\n",
            "Epoch 254/300\n",
            "1/1 [==============================] - 0s 5ms/step - loss: 0.1556 - acc: 0.9000\n",
            "Epoch 255/300\n",
            "1/1 [==============================] - 0s 6ms/step - loss: 0.1553 - acc: 0.9000\n",
            "Epoch 256/300\n",
            "1/1 [==============================] - 0s 7ms/step - loss: 0.1551 - acc: 0.9000\n",
            "Epoch 257/300\n",
            "1/1 [==============================] - 0s 14ms/step - loss: 0.1548 - acc: 0.9000\n",
            "Epoch 258/300\n",
            "1/1 [==============================] - 0s 4ms/step - loss: 0.1546 - acc: 0.9000\n",
            "Epoch 259/300\n",
            "1/1 [==============================] - 0s 7ms/step - loss: 0.1543 - acc: 0.9000\n",
            "Epoch 260/300\n",
            "1/1 [==============================] - 0s 7ms/step - loss: 0.1541 - acc: 0.9000\n",
            "Epoch 261/300\n",
            "1/1 [==============================] - 0s 7ms/step - loss: 0.1539 - acc: 0.9000\n",
            "Epoch 262/300\n",
            "1/1 [==============================] - 0s 5ms/step - loss: 0.1536 - acc: 0.9000\n",
            "Epoch 263/300\n",
            "1/1 [==============================] - 0s 11ms/step - loss: 0.1534 - acc: 0.9000\n",
            "Epoch 264/300\n",
            "1/1 [==============================] - 0s 7ms/step - loss: 0.1532 - acc: 0.9000\n",
            "Epoch 265/300\n",
            "1/1 [==============================] - 0s 8ms/step - loss: 0.1529 - acc: 0.9000\n",
            "Epoch 266/300\n",
            "1/1 [==============================] - 0s 7ms/step - loss: 0.1527 - acc: 0.9000\n",
            "Epoch 267/300\n",
            "1/1 [==============================] - 0s 7ms/step - loss: 0.1525 - acc: 0.9000\n",
            "Epoch 268/300\n",
            "1/1 [==============================] - 0s 8ms/step - loss: 0.1522 - acc: 0.9000\n",
            "Epoch 269/300\n",
            "1/1 [==============================] - 0s 11ms/step - loss: 0.1520 - acc: 0.9000\n",
            "Epoch 270/300\n",
            "1/1 [==============================] - 0s 8ms/step - loss: 0.1518 - acc: 0.9000\n",
            "Epoch 271/300\n",
            "1/1 [==============================] - 0s 13ms/step - loss: 0.1516 - acc: 0.9000\n",
            "Epoch 272/300\n",
            "1/1 [==============================] - 0s 6ms/step - loss: 0.1513 - acc: 0.9000\n",
            "Epoch 273/300\n",
            "1/1 [==============================] - 0s 8ms/step - loss: 0.1511 - acc: 0.9000\n",
            "Epoch 274/300\n",
            "1/1 [==============================] - 0s 27ms/step - loss: 0.1509 - acc: 0.9000\n",
            "Epoch 275/300\n",
            "1/1 [==============================] - 0s 14ms/step - loss: 0.1507 - acc: 0.9000\n",
            "Epoch 276/300\n",
            "1/1 [==============================] - 0s 13ms/step - loss: 0.1504 - acc: 0.9000\n",
            "Epoch 277/300\n",
            "1/1 [==============================] - 0s 12ms/step - loss: 0.1502 - acc: 0.9000\n",
            "Epoch 278/300\n",
            "1/1 [==============================] - 0s 7ms/step - loss: 0.1500 - acc: 0.9000\n",
            "Epoch 279/300\n",
            "1/1 [==============================] - 0s 6ms/step - loss: 0.1498 - acc: 0.9000\n",
            "Epoch 280/300\n",
            "1/1 [==============================] - 0s 29ms/step - loss: 0.1496 - acc: 0.9000\n",
            "Epoch 281/300\n",
            "1/1 [==============================] - 0s 10ms/step - loss: 0.1494 - acc: 0.9000\n",
            "Epoch 282/300\n",
            "1/1 [==============================] - 0s 9ms/step - loss: 0.1491 - acc: 0.9000\n",
            "Epoch 283/300\n",
            "1/1 [==============================] - 0s 6ms/step - loss: 0.1489 - acc: 0.9000\n",
            "Epoch 284/300\n",
            "1/1 [==============================] - 0s 9ms/step - loss: 0.1487 - acc: 1.0000\n",
            "Epoch 285/300\n",
            "1/1 [==============================] - 0s 10ms/step - loss: 0.1485 - acc: 1.0000\n",
            "Epoch 286/300\n",
            "1/1 [==============================] - 0s 5ms/step - loss: 0.1483 - acc: 1.0000\n",
            "Epoch 287/300\n",
            "1/1 [==============================] - 0s 4ms/step - loss: 0.1481 - acc: 1.0000\n",
            "Epoch 288/300\n",
            "1/1 [==============================] - 0s 5ms/step - loss: 0.1479 - acc: 1.0000\n",
            "Epoch 289/300\n",
            "1/1 [==============================] - 0s 7ms/step - loss: 0.1477 - acc: 1.0000\n",
            "Epoch 290/300\n",
            "1/1 [==============================] - 0s 19ms/step - loss: 0.1475 - acc: 1.0000\n",
            "Epoch 291/300\n",
            "1/1 [==============================] - 0s 15ms/step - loss: 0.1473 - acc: 1.0000\n",
            "Epoch 292/300\n",
            "1/1 [==============================] - 0s 7ms/step - loss: 0.1471 - acc: 1.0000\n",
            "Epoch 293/300\n",
            "1/1 [==============================] - 0s 7ms/step - loss: 0.1469 - acc: 1.0000\n",
            "Epoch 294/300\n",
            "1/1 [==============================] - 0s 6ms/step - loss: 0.1467 - acc: 1.0000\n",
            "Epoch 295/300\n",
            "1/1 [==============================] - 0s 8ms/step - loss: 0.1465 - acc: 1.0000\n",
            "Epoch 296/300\n",
            "1/1 [==============================] - 0s 7ms/step - loss: 0.1463 - acc: 1.0000\n",
            "Epoch 297/300\n",
            "1/1 [==============================] - 0s 8ms/step - loss: 0.1461 - acc: 1.0000\n",
            "Epoch 298/300\n",
            "1/1 [==============================] - 0s 5ms/step - loss: 0.1459 - acc: 1.0000\n",
            "Epoch 299/300\n",
            "1/1 [==============================] - 0s 7ms/step - loss: 0.1457 - acc: 1.0000\n",
            "Epoch 300/300\n",
            "1/1 [==============================] - 0s 5ms/step - loss: 0.1455 - acc: 1.0000\n"
          ]
        },
        {
          "output_type": "execute_result",
          "data": {
            "text/plain": [
              "<keras.callbacks.History at 0x7efcf00897d0>"
            ]
          },
          "metadata": {},
          "execution_count": 78
        }
      ]
    },
    {
      "cell_type": "markdown",
      "metadata": {
        "id": "e0215hW8tTj0"
      },
      "source": [
        "### **결과**"
      ]
    },
    {
      "cell_type": "markdown",
      "metadata": {
        "id": "W168xYmMtVij"
      },
      "source": [
        "* 학습 파라미터 확인"
      ]
    },
    {
      "cell_type": "code",
      "metadata": {
        "id": "Aj42y5watYT7",
        "colab": {
          "base_uri": "https://localhost:8080/"
        },
        "outputId": "b0199a80-0af4-4e43-b56b-c073c0dc327e"
      },
      "source": [
        "W=model.get_weights()[0]\n",
        "b=model.get_weights()[1]\n",
        "\n",
        "print(\"W:\",W,\"b:\",b)"
      ],
      "execution_count": null,
      "outputs": [
        {
          "output_type": "stream",
          "name": "stdout",
          "text": [
            "W: [[ 0.7694224 ]\n",
            " [-0.13501926]\n",
            " [-0.6452626 ]\n",
            " [ 0.4446349 ]] b: [-0.13508114]\n"
          ]
        }
      ]
    },
    {
      "cell_type": "markdown",
      "metadata": {
        "id": "WZP0UAgGtbXD"
      },
      "source": [
        "* 시각화"
      ]
    },
    {
      "cell_type": "code",
      "metadata": {
        "id": "pXDWEWIDtbXD",
        "colab": {
          "base_uri": "https://localhost:8080/",
          "height": 283
        },
        "outputId": "063df3f2-5917-4feb-eaa9-5e4e490868e7"
      },
      "source": [
        "Y_pred=model.predict(X)\n",
        "print(Y.shape,Y_pred.shape)\n",
        "\n",
        "plt.plot(Y,marker='o',linestyle='')\n",
        "plt.plot(Y_pred,marker='.',linestyle='--')\n",
        "plt.show()"
      ],
      "execution_count": null,
      "outputs": [
        {
          "output_type": "stream",
          "name": "stdout",
          "text": [
            "(10,) (10, 1)\n"
          ]
        },
        {
          "output_type": "display_data",
          "data": {
            "image/png": "[encoded data removed]",
            "text/plain": [
              "<Figure size 432x288 with 1 Axes>"
            ]
          },
          "metadata": {
            "needs_background": "light"
          }
        }
      ]
    },
    {
      "cell_type": "markdown",
      "metadata": {
        "id": "XYBLgVYNcHFq"
      },
      "source": [
        "* 학습진행"
      ]
    },
    {
      "cell_type": "code",
      "metadata": {
        "colab": {
          "base_uri": "https://localhost:8080/"
        },
        "id": "3yt-eRl7aprh",
        "outputId": "e939863c-b137-4e7b-b4b8-11ed50da2311"
      },
      "source": [
        "model.fit(X,Y,epochs=1)"
      ],
      "execution_count": null,
      "outputs": [
        {
          "output_type": "stream",
          "name": "stdout",
          "text": [
            "1/1 [==============================] - 0s 4ms/step - loss: 0.1453 - acc: 1.0000\n"
          ]
        },
        {
          "output_type": "execute_result",
          "data": {
            "text/plain": [
              "<keras.callbacks.History at 0x7efc99082290>"
            ]
          },
          "metadata": {},
          "execution_count": 81
        }
      ]
    },
    {
      "cell_type": "code",
      "metadata": {
        "id": "y3F-DYN-cURv"
      },
      "source": [
        ""
      ],
      "execution_count": null,
      "outputs": []
    }
  ]
}