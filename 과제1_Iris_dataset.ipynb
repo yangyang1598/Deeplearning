{
  "nbformat": 4,
  "nbformat_minor": 0,
  "metadata": {
    "colab": {
      "name": "과제1_Iris_dataset.ipynb",
      "provenance": [],
      "collapsed_sections": [],
      "toc_visible": true,
      "include_colab_link": true
    },
    "kernelspec": {
      "name": "python3",
      "display_name": "Python 3"
    },
    "language_info": {
      "name": "python"
    }
  },
  "cells": [
    {
      "cell_type": "markdown",
      "metadata": {
        "id": "view-in-github",
        "colab_type": "text"
      },
      "source": [
        "<a href=\"https://colab.research.google.com/github/yangyang1598/Deeplearning/blob/main/%EA%B3%BC%EC%A0%9C1_Iris_dataset.ipynb\" target=\"_parent\"><img src=\"https://colab.research.google.com/assets/colab-badge.svg\" alt=\"Open In Colab\"/></a>"
      ]
    },
    {
      "cell_type": "markdown",
      "metadata": {
        "id": "A7TEIhK3cF8K"
      },
      "source": [
        "## 1. 데이터 정의\n",
        "---\n",
        "\n",
        "* sklearn 으로 부터 iris 데이터셋을 불러옵니다.\n",
        "* x_data와 y_data를 정의합니다."
      ]
    },
    {
      "cell_type": "code",
      "metadata": {
        "id": "O9IxgqZMqA4i",
        "colab": {
          "base_uri": "https://localhost:8080/"
        },
        "outputId": "c8a06112-9844-4186-abca-f0a7e36919d1"
      },
      "source": [
        "! ls"
      ],
      "execution_count": null,
      "outputs": [
        {
          "output_type": "stream",
          "name": "stdout",
          "text": [
            "sample_data\n"
          ]
        }
      ]
    },
    {
      "cell_type": "code",
      "metadata": {
        "id": "YkKRb3NuLvfi",
        "colab": {
          "base_uri": "https://localhost:8080/"
        },
        "outputId": "1fbd30a7-cfeb-4c42-be8a-b398718a2c11"
      },
      "source": [
        "from google.colab import drive\n",
        "drive.mount('/content/drive')"
      ],
      "execution_count": null,
      "outputs": [
        {
          "output_type": "stream",
          "name": "stdout",
          "text": [
            "Drive already mounted at /content/drive; to attempt to forcibly remount, call drive.mount(\"/content/drive\", force_remount=True).\n"
          ]
        }
      ]
    },
    {
      "cell_type": "code",
      "metadata": {
        "id": "jnZ9e_aGLRge",
        "colab": {
          "base_uri": "https://localhost:8080/"
        },
        "outputId": "506eee30-2b1b-4e83-d138-fe0f32ef3886"
      },
      "source": [
        "import pandas as pd\n",
        "import matplotlib.pyplot as plt\n",
        "import sklearn.model_selection\n",
        "import numpy as np\n",
        "import matplotlib.pyplot as plt\n",
        "from tensorflow.keras.models import Sequential\n",
        "from tensorflow.keras.layers import Dense\n",
        "from tensorflow.keras import optimizers\n",
        "\n",
        "data=pd.read_csv(\"iris_train.csv\")\n",
        "data\n",
        "data_np=data.to_numpy()\n",
        "\n",
        "x_data= data_np[:,2:].astype(\"float\")\n",
        "y_data=data_np[:,1]\n",
        "\n",
        "y_data_label=[]\n",
        "for y in y_data:\n",
        "  if y=='setosa':\n",
        "    y_data_label.append(0)\n",
        "  elif y=='versicolor':\n",
        "    y_data_label.append(1)\n",
        "  else:\n",
        "    y_data_label.append(2)\n",
        "\n",
        "x_data, y_data \n"
      ],
      "execution_count": null,
      "outputs": [
        {
          "output_type": "execute_result",
          "data": {
            "text/plain": [
              "(array([[4.4, 1.4, 2.9, 0.2],\n",
              "        [6.4, 4.5, 3.2, 1.5],\n",
              "        [6.2, 4.8, 2.8, 1.8],\n",
              "        [7.2, 6.1, 3.6, 2.5],\n",
              "        [4.9, 1.4, 3. , 0.2],\n",
              "        [6.5, 5.8, 3. , 2.2],\n",
              "        [4.3, 1.1, 3. , 0.1],\n",
              "        [6.7, 5. , 3. , 1.7],\n",
              "        [6.8, 4.8, 2.8, 1.4],\n",
              "        [6.6, 4.4, 3. , 1.4],\n",
              "        [5. , 3.5, 2. , 1. ],\n",
              "        [6.3, 4.9, 2.7, 1.8],\n",
              "        [6.3, 4.7, 3.3, 1.6],\n",
              "        [4.6, 1.5, 3.1, 0.2],\n",
              "        [5.8, 1.2, 4. , 0.2],\n",
              "        [7.6, 6.6, 3. , 2.1],\n",
              "        [7.7, 6.9, 2.6, 2.3],\n",
              "        [7.1, 5.9, 3. , 2.1],\n",
              "        [5.1, 1.4, 3.5, 0.2],\n",
              "        [6.7, 4.4, 3.1, 1.4],\n",
              "        [5.5, 4. , 2.3, 1.3],\n",
              "        [5.4, 1.7, 3.9, 0.4],\n",
              "        [5.2, 3.9, 2.7, 1.4],\n",
              "        [6. , 5. , 2.2, 1.5],\n",
              "        [6.8, 5.5, 3. , 2.1],\n",
              "        [7.3, 6.3, 2.9, 1.8],\n",
              "        [6.9, 5.7, 3.2, 2.3],\n",
              "        [4.9, 4.5, 2.5, 1.7],\n",
              "        [6.4, 5.6, 2.8, 2.1],\n",
              "        [7.7, 6.7, 3.8, 2.2],\n",
              "        [6.4, 4.3, 2.9, 1.3],\n",
              "        [5. , 1.5, 3.4, 0.2],\n",
              "        [6.3, 6. , 3.3, 2.5],\n",
              "        [6.7, 5.8, 2.5, 1.8],\n",
              "        [6.5, 5.1, 3.2, 2. ],\n",
              "        [7.7, 6.7, 2.8, 2. ],\n",
              "        [7.2, 6. , 3.2, 1.8],\n",
              "        [4.9, 1.5, 3.1, 0.1],\n",
              "        [5.6, 3.9, 2.5, 1.1],\n",
              "        [5.8, 4.1, 2.7, 1. ],\n",
              "        [5.9, 4.2, 3. , 1.5],\n",
              "        [6.4, 5.3, 2.7, 1.9],\n",
              "        [6. , 4.5, 2.9, 1.5],\n",
              "        [4.7, 1.3, 3.2, 0.2],\n",
              "        [6.3, 5.6, 2.9, 1.8],\n",
              "        [6.3, 4.9, 2.5, 1.5],\n",
              "        [6.1, 4. , 2.8, 1.3],\n",
              "        [6.1, 4.7, 2.8, 1.2],\n",
              "        [5.7, 4.5, 2.8, 1.3],\n",
              "        [6.6, 4.6, 2.9, 1.3],\n",
              "        [4.6, 1.4, 3.4, 0.3],\n",
              "        [6.1, 4.7, 2.9, 1.4],\n",
              "        [5. , 1.4, 3.6, 0.2],\n",
              "        [6. , 4. , 2.2, 1. ],\n",
              "        [5.4, 1.5, 3.7, 0.2],\n",
              "        [5.9, 4.8, 3.2, 1.8],\n",
              "        [6.7, 5.7, 3.3, 2.1],\n",
              "        [4.8, 1.4, 3. , 0.1],\n",
              "        [6.5, 5.5, 3. , 1.8],\n",
              "        [6.4, 5.3, 3.2, 2.3],\n",
              "        [5.6, 4.9, 2.8, 2. ],\n",
              "        [5.8, 5.1, 2.8, 2.4],\n",
              "        [7.2, 5.8, 3. , 1.6],\n",
              "        [5.8, 5.1, 2.7, 1.9],\n",
              "        [4.8, 1.6, 3.4, 0.2],\n",
              "        [6.1, 4.9, 3. , 1.8],\n",
              "        [7. , 4.7, 3.2, 1.4],\n",
              "        [5.6, 4.5, 3. , 1.5],\n",
              "        [5.7, 3.5, 2.6, 1. ],\n",
              "        [5.7, 5. , 2.5, 2. ],\n",
              "        [6.5, 4.6, 2.8, 1.5],\n",
              "        [5.6, 3.6, 2.9, 1.3],\n",
              "        [6.2, 4.5, 2.2, 1.5],\n",
              "        [4.9, 3.3, 2.4, 1. ],\n",
              "        [6.9, 4.9, 3.1, 1.5]]),\n",
              " array(['setosa', 'versicolor', 'virginica', 'virginica', 'setosa',\n",
              "        'virginica', 'setosa', 'versicolor', 'versicolor', 'versicolor',\n",
              "        'versicolor', 'virginica', 'versicolor', 'setosa', 'setosa',\n",
              "        'virginica', 'virginica', 'virginica', 'setosa', 'versicolor',\n",
              "        'versicolor', 'setosa', 'versicolor', 'virginica', 'virginica',\n",
              "        'virginica', 'virginica', 'virginica', 'virginica', 'virginica',\n",
              "        'versicolor', 'setosa', 'virginica', 'virginica', 'virginica',\n",
              "        'virginica', 'virginica', 'setosa', 'versicolor', 'versicolor',\n",
              "        'versicolor', 'virginica', 'versicolor', 'setosa', 'virginica',\n",
              "        'versicolor', 'versicolor', 'versicolor', 'versicolor',\n",
              "        'versicolor', 'setosa', 'versicolor', 'setosa', 'versicolor',\n",
              "        'setosa', 'versicolor', 'virginica', 'setosa', 'virginica',\n",
              "        'virginica', 'virginica', 'virginica', 'virginica', 'virginica',\n",
              "        'setosa', 'virginica', 'versicolor', 'versicolor', 'versicolor',\n",
              "        'virginica', 'versicolor', 'versicolor', 'versicolor',\n",
              "        'versicolor', 'versicolor'], dtype=object))"
            ]
          },
          "metadata": {},
          "execution_count": 5
        }
      ]
    },
    {
      "cell_type": "markdown",
      "metadata": {
        "id": "bbnXcAyTcJTR"
      },
      "source": [
        "## 2. 데이터 시각화\n",
        "---\n",
        "\n",
        "* 데이터를 matplotlib.pyplot 라이브러리를 이용항 시각화 합니다.\n",
        "  * (예시)\n",
        "\n",
        "![](https://github.com/yebiny/Lecture_deeplearning_basic/blob/main/imgs/iris_datapresent.png?raw=true)"
      ]
    },
    {
      "cell_type": "code",
      "metadata": {
        "colab": {
          "base_uri": "https://localhost:8080/",
          "height": 267
        },
        "id": "1CJaSljQbmJb",
        "outputId": "65c42432-abd0-4ec2-dad2-73833fb518ce"
      },
      "source": [
        "# setosa_mask=(y_data_label==0)\n",
        "# setosar_x=x_data[setosa_mask]\n",
        "\n",
        "# versicolor_mask=(y_data_label==1)\n",
        "# versicolor_x=x_data[versicolor_mask]\n",
        "\n",
        "# virginica_mask=(y_data_label==2)\n",
        "# virginica_x=x_data[virginica_mask]\n",
        "\n",
        "\n",
        "plt.plot([x for x in x_data], marker='o', linestyle='')\n",
        "# plt.plot([x for x in virginica_x], marker='o', linestyle='')\n",
        "\n",
        "plt.legend((\"sepal length\",\"petal length\",\"sepal width\",\"petal width\"))\n",
        "plt.show()"
      ],
      "execution_count": null,
      "outputs": [
        {
          "output_type": "display_data",
          "data": {
            "image/png": "[encoded data removed]",
            "text/plain": [
              "<Figure size 432x288 with 1 Axes>"
            ]
          },
          "metadata": {
            "needs_background": "light"
          }
        }
      ]
    },
    {
      "cell_type": "markdown",
      "metadata": {
        "id": "JZNwzR3zgTiG"
      },
      "source": [
        "## 3. 데이터 전처리\n",
        "---\n",
        "\n",
        "* y 데이터 값을 원-핫 벡터로 코딩합니다.\n",
        "* 학습데이터와 테스트데이터를 분리합니다. \n",
        "  * sklearn.model_selection에서 제공하는 train_test_split 를 사용합니다.\n"
      ]
    },
    {
      "cell_type": "markdown",
      "metadata": {
        "id": "FVpCDcwufozw"
      },
      "source": [
        "### **One-hot 코딩**\n"
      ]
    },
    {
      "cell_type": "code",
      "metadata": {
        "id": "_p5DO0Bafr07",
        "colab": {
          "base_uri": "https://localhost:8080/"
        },
        "outputId": "d757a859-4c2a-4366-d901-0044a7b1924d"
      },
      "source": [
        "from tensorflow.keras.utils import to_categorical\n",
        "y_data_onehot = to_categorical(y_data_label, num_classes=3)\n",
        "print (y_data_onehot)"
      ],
      "execution_count": null,
      "outputs": [
        {
          "output_type": "stream",
          "name": "stdout",
          "text": [
            "[[1. 0. 0.]\n",
            " [0. 1. 0.]\n",
            " [0. 0. 1.]\n",
            " [0. 0. 1.]\n",
            " [1. 0. 0.]\n",
            " [0. 0. 1.]\n",
            " [1. 0. 0.]\n",
            " [0. 1. 0.]\n",
            " [0. 1. 0.]\n",
            " [0. 1. 0.]\n",
            " [0. 1. 0.]\n",
            " [0. 0. 1.]\n",
            " [0. 1. 0.]\n",
            " [1. 0. 0.]\n",
            " [1. 0. 0.]\n",
            " [0. 0. 1.]\n",
            " [0. 0. 1.]\n",
            " [0. 0. 1.]\n",
            " [1. 0. 0.]\n",
            " [0. 1. 0.]\n",
            " [0. 1. 0.]\n",
            " [1. 0. 0.]\n",
            " [0. 1. 0.]\n",
            " [0. 0. 1.]\n",
            " [0. 0. 1.]\n",
            " [0. 0. 1.]\n",
            " [0. 0. 1.]\n",
            " [0. 0. 1.]\n",
            " [0. 0. 1.]\n",
            " [0. 0. 1.]\n",
            " [0. 1. 0.]\n",
            " [1. 0. 0.]\n",
            " [0. 0. 1.]\n",
            " [0. 0. 1.]\n",
            " [0. 0. 1.]\n",
            " [0. 0. 1.]\n",
            " [0. 0. 1.]\n",
            " [1. 0. 0.]\n",
            " [0. 1. 0.]\n",
            " [0. 1. 0.]\n",
            " [0. 1. 0.]\n",
            " [0. 0. 1.]\n",
            " [0. 1. 0.]\n",
            " [1. 0. 0.]\n",
            " [0. 0. 1.]\n",
            " [0. 1. 0.]\n",
            " [0. 1. 0.]\n",
            " [0. 1. 0.]\n",
            " [0. 1. 0.]\n",
            " [0. 1. 0.]\n",
            " [1. 0. 0.]\n",
            " [0. 1. 0.]\n",
            " [1. 0. 0.]\n",
            " [0. 1. 0.]\n",
            " [1. 0. 0.]\n",
            " [0. 1. 0.]\n",
            " [0. 0. 1.]\n",
            " [1. 0. 0.]\n",
            " [0. 0. 1.]\n",
            " [0. 0. 1.]\n",
            " [0. 0. 1.]\n",
            " [0. 0. 1.]\n",
            " [0. 0. 1.]\n",
            " [0. 0. 1.]\n",
            " [1. 0. 0.]\n",
            " [0. 0. 1.]\n",
            " [0. 1. 0.]\n",
            " [0. 1. 0.]\n",
            " [0. 1. 0.]\n",
            " [0. 0. 1.]\n",
            " [0. 1. 0.]\n",
            " [0. 1. 0.]\n",
            " [0. 1. 0.]\n",
            " [0. 1. 0.]\n",
            " [0. 1. 0.]]\n"
          ]
        }
      ]
    },
    {
      "cell_type": "markdown",
      "metadata": {
        "id": "4I9IpJEfc9T-"
      },
      "source": [
        "### **train-test split**"
      ]
    },
    {
      "cell_type": "code",
      "metadata": {
        "id": "79IICX4rdABg",
        "colab": {
          "base_uri": "https://localhost:8080/"
        },
        "outputId": "e3866e11-8013-4e64-a10c-64945605cde5"
      },
      "source": [
        "from sklearn.model_selection import train_test_split\n",
        "x_train,x_test,y_train,y_test=train_test_split(x_data,y_data_onehot)\n",
        "y_train_onehot =y_data_onehot[:56]\n",
        "y_train_onehot"
      ],
      "execution_count": null,
      "outputs": [
        {
          "output_type": "execute_result",
          "data": {
            "text/plain": [
              "array([[1., 0., 0.],\n",
              "       [0., 1., 0.],\n",
              "       [0., 0., 1.],\n",
              "       [0., 0., 1.],\n",
              "       [1., 0., 0.],\n",
              "       [0., 0., 1.],\n",
              "       [1., 0., 0.],\n",
              "       [0., 1., 0.],\n",
              "       [0., 1., 0.],\n",
              "       [0., 1., 0.],\n",
              "       [0., 1., 0.],\n",
              "       [0., 0., 1.],\n",
              "       [0., 1., 0.],\n",
              "       [1., 0., 0.],\n",
              "       [1., 0., 0.],\n",
              "       [0., 0., 1.],\n",
              "       [0., 0., 1.],\n",
              "       [0., 0., 1.],\n",
              "       [1., 0., 0.],\n",
              "       [0., 1., 0.],\n",
              "       [0., 1., 0.],\n",
              "       [1., 0., 0.],\n",
              "       [0., 1., 0.],\n",
              "       [0., 0., 1.],\n",
              "       [0., 0., 1.],\n",
              "       [0., 0., 1.],\n",
              "       [0., 0., 1.],\n",
              "       [0., 0., 1.],\n",
              "       [0., 0., 1.],\n",
              "       [0., 0., 1.],\n",
              "       [0., 1., 0.],\n",
              "       [1., 0., 0.],\n",
              "       [0., 0., 1.],\n",
              "       [0., 0., 1.],\n",
              "       [0., 0., 1.],\n",
              "       [0., 0., 1.],\n",
              "       [0., 0., 1.],\n",
              "       [1., 0., 0.],\n",
              "       [0., 1., 0.],\n",
              "       [0., 1., 0.],\n",
              "       [0., 1., 0.],\n",
              "       [0., 0., 1.],\n",
              "       [0., 1., 0.],\n",
              "       [1., 0., 0.],\n",
              "       [0., 0., 1.],\n",
              "       [0., 1., 0.],\n",
              "       [0., 1., 0.],\n",
              "       [0., 1., 0.],\n",
              "       [0., 1., 0.],\n",
              "       [0., 1., 0.],\n",
              "       [1., 0., 0.],\n",
              "       [0., 1., 0.],\n",
              "       [1., 0., 0.],\n",
              "       [0., 1., 0.],\n",
              "       [1., 0., 0.],\n",
              "       [0., 1., 0.]], dtype=float32)"
            ]
          },
          "metadata": {},
          "execution_count": 8
        }
      ]
    },
    {
      "cell_type": "markdown",
      "metadata": {
        "id": "U-C2tdRFe4By"
      },
      "source": [
        "## 4. 모델학습\n",
        "---\n",
        "\n",
        "* softmax regression을 사용하여 훈련하고, 테스트셋을 이용해 성능을 평가합니다.\n",
        "* decision tree를 사용하여 훈련하고, 테스트셋을 이용해 성능을 평가합니다.\n",
        "* 이 데이터셋에 적합한 세번째 모델을 찾아보고 훈련해 봅니다."
      ]
    },
    {
      "cell_type": "markdown",
      "metadata": {
        "id": "MWPUZ_JPfFW_"
      },
      "source": [
        "### **Softmax regression**"
      ]
    },
    {
      "cell_type": "code",
      "metadata": {
        "id": "vFOB-lrRfEsy",
        "colab": {
          "base_uri": "https://localhost:8080/"
        },
        "outputId": "fa0a1d17-59ad-4aee-b479-f85ca235ee12"
      },
      "source": [
        "import numpy as np\n",
        "\n",
        "model=Sequential()\n",
        "model.add(Dense(3,input_dim=4,activation='softmax'))\n",
        "model.summary()\n",
        "model.compile(loss = 'categorical_crossentropy',\n",
        "              optimizer = optimizers.SGD(learning_rate=0.01),\n",
        "              metrics=[ 'acc' ])\n",
        "\n"
      ],
      "execution_count": null,
      "outputs": [
        {
          "output_type": "stream",
          "name": "stdout",
          "text": [
            "Model: \"sequential\"\n",
            "_________________________________________________________________\n",
            "Layer (type)                 Output Shape              Param #   \n",
            "=================================================================\n",
            "dense (Dense)                (None, 3)                 15        \n",
            "=================================================================\n",
            "Total params: 15\n",
            "Trainable params: 15\n",
            "Non-trainable params: 0\n",
            "_________________________________________________________________\n"
          ]
        }
      ]
    },
    {
      "cell_type": "code",
      "metadata": {
        "colab": {
          "base_uri": "https://localhost:8080/"
        },
        "id": "6VJy3dyfui1E",
        "outputId": "4f2ed3ba-e542-4829-f3fe-98addded749a"
      },
      "source": [
        "Y_pred_onehot=model.predict(x_train)\n",
        "print(x_train)"
      ],
      "execution_count": null,
      "outputs": [
        {
          "output_type": "stream",
          "name": "stdout",
          "text": [
            "[[6.4 4.3 2.9 1.3]\n",
            " [5.  1.5 3.4 0.2]\n",
            " [4.9 4.5 2.5 1.7]\n",
            " [4.6 1.5 3.1 0.2]\n",
            " [6.  4.  2.2 1. ]\n",
            " [7.  4.7 3.2 1.4]\n",
            " [6.7 4.4 3.1 1.4]\n",
            " [7.7 6.7 2.8 2. ]\n",
            " [7.7 6.9 2.6 2.3]\n",
            " [5.2 3.9 2.7 1.4]\n",
            " [6.3 4.7 3.3 1.6]\n",
            " [5.6 4.5 3.  1.5]\n",
            " [5.6 4.9 2.8 2. ]\n",
            " [6.1 4.9 3.  1.8]\n",
            " [6.7 5.8 2.5 1.8]\n",
            " [4.8 1.4 3.  0.1]\n",
            " [4.7 1.3 3.2 0.2]\n",
            " [6.7 5.7 3.3 2.1]\n",
            " [6.  5.  2.2 1.5]\n",
            " [6.2 4.5 2.2 1.5]\n",
            " [6.5 4.6 2.8 1.5]\n",
            " [5.4 1.7 3.9 0.4]\n",
            " [6.5 5.8 3.  2.2]\n",
            " [5.7 3.5 2.6 1. ]\n",
            " [6.1 4.7 2.9 1.4]\n",
            " [6.4 4.5 3.2 1.5]\n",
            " [4.9 1.4 3.  0.2]\n",
            " [4.9 3.3 2.4 1. ]\n",
            " [5.8 1.2 4.  0.2]\n",
            " [7.6 6.6 3.  2.1]\n",
            " [6.6 4.6 2.9 1.3]\n",
            " [4.3 1.1 3.  0.1]\n",
            " [6.6 4.4 3.  1.4]\n",
            " [5.7 5.  2.5 2. ]\n",
            " [6.9 5.7 3.2 2.3]\n",
            " [5.6 3.6 2.9 1.3]\n",
            " [5.  1.4 3.6 0.2]\n",
            " [7.2 5.8 3.  1.6]\n",
            " [6.  4.5 2.9 1.5]\n",
            " [6.4 5.3 3.2 2.3]\n",
            " [5.7 4.5 2.8 1.3]\n",
            " [6.9 4.9 3.1 1.5]\n",
            " [6.4 5.3 2.7 1.9]\n",
            " [7.1 5.9 3.  2.1]\n",
            " [5.8 5.1 2.8 2.4]\n",
            " [4.6 1.4 3.4 0.3]\n",
            " [6.8 5.5 3.  2.1]\n",
            " [6.3 4.9 2.7 1.8]\n",
            " [6.8 4.8 2.8 1.4]\n",
            " [5.8 5.1 2.7 1.9]\n",
            " [7.2 6.1 3.6 2.5]\n",
            " [7.7 6.7 3.8 2.2]\n",
            " [5.5 4.  2.3 1.3]\n",
            " [6.5 5.1 3.2 2. ]\n",
            " [5.8 4.1 2.7 1. ]\n",
            " [6.2 4.8 2.8 1.8]]\n"
          ]
        }
      ]
    },
    {
      "cell_type": "code",
      "metadata": {
        "id": "N5ETzsf4ucvV",
        "colab": {
          "base_uri": "https://localhost:8080/",
          "height": 283
        },
        "outputId": "73b6d7e5-656f-4aef-9de2-97a37ac179d6"
      },
      "source": [
        "Y_pred=[np.argmax(y_pred_onehot) for y_pred_onehot in Y_pred_onehot]\n",
        "print(Y_pred)\n",
        "plt.plot(y_data,marker='o',linestyle='')\n",
        "plt.plot(Y_pred,marker='*',linestyle='--')\n",
        "plt.legend((\"y_train\",\"y_pred\"))\n",
        "plt.show()"
      ],
      "execution_count": null,
      "outputs": [
        {
          "output_type": "stream",
          "name": "stdout",
          "text": [
            "[2, 2, 2, 2, 2, 2, 2, 2, 2, 2, 2, 2, 2, 2, 2, 2, 2, 2, 2, 2, 2, 2, 2, 2, 2, 2, 2, 2, 2, 2, 2, 2, 2, 2, 2, 2, 2, 2, 2, 2, 2, 2, 2, 2, 2, 2, 2, 2, 2, 2, 2, 2, 2, 2, 2, 2]\n"
          ]
        },
        {
          "output_type": "display_data",
          "data": {
            "image/png": "[encoded data removed]",
            "text/plain": [
              "<Figure size 432x288 with 1 Axes>"
            ]
          },
          "metadata": {
            "needs_background": "light"
          }
        }
      ]
    },
    {
      "cell_type": "code",
      "metadata": {
        "id": "GggM1zoILUNB"
      },
      "source": [
        "model.compile(loss = 'categorical_crossentropy',\n",
        "              optimizer = optimizers.SGD(learning_rate=0.01),\n",
        "              metrics=[ 'acc' ])"
      ],
      "execution_count": null,
      "outputs": []
    },
    {
      "cell_type": "code",
      "metadata": {
        "colab": {
          "base_uri": "https://localhost:8080/"
        },
        "id": "RC7dwR9SLXyI",
        "outputId": "78afaa67-27c8-4c24-a5bd-f23a6c76f284"
      },
      "source": [
        "model.fit(x_train,y_train_onehot,epochs=300)"
      ],
      "execution_count": null,
      "outputs": [
        {
          "output_type": "stream",
          "name": "stdout",
          "text": [
            "Epoch 1/300\n",
            "2/2 [==============================] - 0s 8ms/step - loss: 3.2795 - acc: 0.3750\n",
            "Epoch 2/300\n",
            "2/2 [==============================] - 0s 7ms/step - loss: 3.0133 - acc: 0.3929\n",
            "Epoch 3/300\n",
            "2/2 [==============================] - 0s 9ms/step - loss: 2.8596 - acc: 0.4286\n",
            "Epoch 4/300\n",
            "2/2 [==============================] - 0s 5ms/step - loss: 2.7494 - acc: 0.5179\n",
            "Epoch 5/300\n",
            "2/2 [==============================] - 0s 5ms/step - loss: 2.6324 - acc: 0.4643\n",
            "Epoch 6/300\n",
            "2/2 [==============================] - 0s 5ms/step - loss: 2.5181 - acc: 0.4821\n",
            "Epoch 7/300\n",
            "2/2 [==============================] - 0s 7ms/step - loss: 2.4068 - acc: 0.4464\n",
            "Epoch 8/300\n",
            "2/2 [==============================] - 0s 7ms/step - loss: 2.3022 - acc: 0.4643\n",
            "Epoch 9/300\n",
            "2/2 [==============================] - 0s 3ms/step - loss: 2.1898 - acc: 0.4643\n",
            "Epoch 10/300\n",
            "2/2 [==============================] - 0s 9ms/step - loss: 2.0820 - acc: 0.4464\n",
            "Epoch 11/300\n",
            "2/2 [==============================] - 0s 5ms/step - loss: 1.9754 - acc: 0.4464\n",
            "Epoch 12/300\n",
            "2/2 [==============================] - 0s 9ms/step - loss: 1.8661 - acc: 0.4643\n",
            "Epoch 13/300\n",
            "2/2 [==============================] - 0s 7ms/step - loss: 1.7632 - acc: 0.4643\n",
            "Epoch 14/300\n",
            "2/2 [==============================] - 0s 9ms/step - loss: 1.6576 - acc: 0.4821\n",
            "Epoch 15/300\n",
            "2/2 [==============================] - 0s 7ms/step - loss: 1.5617 - acc: 0.4464\n",
            "Epoch 16/300\n",
            "2/2 [==============================] - 0s 4ms/step - loss: 1.4747 - acc: 0.4643\n",
            "Epoch 17/300\n",
            "2/2 [==============================] - 0s 7ms/step - loss: 1.3861 - acc: 0.4286\n",
            "Epoch 18/300\n",
            "2/2 [==============================] - 0s 4ms/step - loss: 1.3111 - acc: 0.4821\n",
            "Epoch 19/300\n",
            "2/2 [==============================] - 0s 10ms/step - loss: 1.2467 - acc: 0.4643\n",
            "Epoch 20/300\n",
            "2/2 [==============================] - 0s 4ms/step - loss: 1.2008 - acc: 0.4643\n",
            "Epoch 21/300\n",
            "2/2 [==============================] - 0s 8ms/step - loss: 1.1643 - acc: 0.4464\n",
            "Epoch 22/300\n",
            "2/2 [==============================] - 0s 4ms/step - loss: 1.1387 - acc: 0.4464\n",
            "Epoch 23/300\n",
            "2/2 [==============================] - 0s 7ms/step - loss: 1.1208 - acc: 0.4464\n",
            "Epoch 24/300\n",
            "2/2 [==============================] - 0s 5ms/step - loss: 1.1132 - acc: 0.4286\n",
            "Epoch 25/300\n",
            "2/2 [==============================] - 0s 4ms/step - loss: 1.1087 - acc: 0.4107\n",
            "Epoch 26/300\n",
            "2/2 [==============================] - 0s 4ms/step - loss: 1.0989 - acc: 0.4464\n",
            "Epoch 27/300\n",
            "2/2 [==============================] - 0s 4ms/step - loss: 1.0963 - acc: 0.4286\n",
            "Epoch 28/300\n",
            "2/2 [==============================] - 0s 5ms/step - loss: 1.1017 - acc: 0.4107\n",
            "Epoch 29/300\n",
            "2/2 [==============================] - 0s 17ms/step - loss: 1.1068 - acc: 0.4107\n",
            "Epoch 30/300\n",
            "2/2 [==============================] - 0s 4ms/step - loss: 1.0912 - acc: 0.4107\n",
            "Epoch 31/300\n",
            "2/2 [==============================] - 0s 16ms/step - loss: 1.0917 - acc: 0.4107\n",
            "Epoch 32/300\n",
            "2/2 [==============================] - 0s 6ms/step - loss: 1.0954 - acc: 0.4286\n",
            "Epoch 33/300\n",
            "2/2 [==============================] - 0s 8ms/step - loss: 1.0919 - acc: 0.3929\n",
            "Epoch 34/300\n",
            "2/2 [==============================] - 0s 6ms/step - loss: 1.0892 - acc: 0.4464\n",
            "Epoch 35/300\n",
            "2/2 [==============================] - 0s 4ms/step - loss: 1.0884 - acc: 0.4286\n",
            "Epoch 36/300\n",
            "2/2 [==============================] - 0s 10ms/step - loss: 1.0871 - acc: 0.4107\n",
            "Epoch 37/300\n",
            "2/2 [==============================] - 0s 5ms/step - loss: 1.0871 - acc: 0.4464\n",
            "Epoch 38/300\n",
            "2/2 [==============================] - 0s 7ms/step - loss: 1.0854 - acc: 0.4286\n",
            "Epoch 39/300\n",
            "2/2 [==============================] - 0s 5ms/step - loss: 1.0865 - acc: 0.4107\n",
            "Epoch 40/300\n",
            "2/2 [==============================] - 0s 14ms/step - loss: 1.0850 - acc: 0.4107\n",
            "Epoch 41/300\n",
            "2/2 [==============================] - 0s 6ms/step - loss: 1.0860 - acc: 0.4107\n",
            "Epoch 42/300\n",
            "2/2 [==============================] - 0s 6ms/step - loss: 1.0835 - acc: 0.4107\n",
            "Epoch 43/300\n",
            "2/2 [==============================] - 0s 5ms/step - loss: 1.0838 - acc: 0.4107\n",
            "Epoch 44/300\n",
            "2/2 [==============================] - 0s 12ms/step - loss: 1.0867 - acc: 0.4286\n",
            "Epoch 45/300\n",
            "2/2 [==============================] - 0s 6ms/step - loss: 1.0858 - acc: 0.4107\n",
            "Epoch 46/300\n",
            "2/2 [==============================] - 0s 6ms/step - loss: 1.0854 - acc: 0.4286\n",
            "Epoch 47/300\n",
            "2/2 [==============================] - 0s 12ms/step - loss: 1.0813 - acc: 0.4464\n",
            "Epoch 48/300\n",
            "2/2 [==============================] - 0s 4ms/step - loss: 1.0855 - acc: 0.4464\n",
            "Epoch 49/300\n",
            "2/2 [==============================] - 0s 4ms/step - loss: 1.0903 - acc: 0.4107\n",
            "Epoch 50/300\n",
            "2/2 [==============================] - 0s 4ms/step - loss: 1.0849 - acc: 0.4286\n",
            "Epoch 51/300\n",
            "2/2 [==============================] - 0s 3ms/step - loss: 1.0807 - acc: 0.4643\n",
            "Epoch 52/300\n",
            "2/2 [==============================] - 0s 5ms/step - loss: 1.0780 - acc: 0.4643\n",
            "Epoch 53/300\n",
            "2/2 [==============================] - 0s 9ms/step - loss: 1.0809 - acc: 0.4107\n",
            "Epoch 54/300\n",
            "2/2 [==============================] - 0s 5ms/step - loss: 1.0841 - acc: 0.4464\n",
            "Epoch 55/300\n",
            "2/2 [==============================] - 0s 7ms/step - loss: 1.0809 - acc: 0.4643\n",
            "Epoch 56/300\n",
            "2/2 [==============================] - 0s 7ms/step - loss: 1.0785 - acc: 0.4286\n",
            "Epoch 57/300\n",
            "2/2 [==============================] - 0s 6ms/step - loss: 1.0788 - acc: 0.4286\n",
            "Epoch 58/300\n",
            "2/2 [==============================] - 0s 6ms/step - loss: 1.0800 - acc: 0.4464\n",
            "Epoch 59/300\n",
            "2/2 [==============================] - 0s 8ms/step - loss: 1.0761 - acc: 0.4821\n",
            "Epoch 60/300\n",
            "2/2 [==============================] - 0s 4ms/step - loss: 1.0760 - acc: 0.4643\n",
            "Epoch 61/300\n",
            "2/2 [==============================] - 0s 9ms/step - loss: 1.0776 - acc: 0.4464\n",
            "Epoch 62/300\n",
            "2/2 [==============================] - 0s 4ms/step - loss: 1.0842 - acc: 0.4286\n",
            "Epoch 63/300\n",
            "2/2 [==============================] - 0s 9ms/step - loss: 1.0745 - acc: 0.5179\n",
            "Epoch 64/300\n",
            "2/2 [==============================] - 0s 5ms/step - loss: 1.0733 - acc: 0.4821\n",
            "Epoch 65/300\n",
            "2/2 [==============================] - 0s 9ms/step - loss: 1.0723 - acc: 0.4821\n",
            "Epoch 66/300\n",
            "2/2 [==============================] - 0s 4ms/step - loss: 1.0739 - acc: 0.4643\n",
            "Epoch 67/300\n",
            "2/2 [==============================] - 0s 9ms/step - loss: 1.0800 - acc: 0.4643\n",
            "Epoch 68/300\n",
            "2/2 [==============================] - 0s 4ms/step - loss: 1.0752 - acc: 0.4821\n",
            "Epoch 69/300\n",
            "2/2 [==============================] - 0s 9ms/step - loss: 1.0736 - acc: 0.5000\n",
            "Epoch 70/300\n",
            "2/2 [==============================] - 0s 4ms/step - loss: 1.0729 - acc: 0.4643\n",
            "Epoch 71/300\n",
            "2/2 [==============================] - 0s 11ms/step - loss: 1.0724 - acc: 0.4464\n",
            "Epoch 72/300\n",
            "2/2 [==============================] - 0s 9ms/step - loss: 1.0719 - acc: 0.4821\n",
            "Epoch 73/300\n",
            "2/2 [==============================] - 0s 7ms/step - loss: 1.0764 - acc: 0.4464\n",
            "Epoch 74/300\n",
            "2/2 [==============================] - 0s 4ms/step - loss: 1.0716 - acc: 0.5000\n",
            "Epoch 75/300\n",
            "2/2 [==============================] - 0s 4ms/step - loss: 1.0706 - acc: 0.4821\n",
            "Epoch 76/300\n",
            "2/2 [==============================] - 0s 4ms/step - loss: 1.0762 - acc: 0.4464\n",
            "Epoch 77/300\n",
            "2/2 [==============================] - 0s 9ms/step - loss: 1.0827 - acc: 0.5000\n",
            "Epoch 78/300\n",
            "2/2 [==============================] - 0s 4ms/step - loss: 1.0712 - acc: 0.4643\n",
            "Epoch 79/300\n",
            "2/2 [==============================] - 0s 5ms/step - loss: 1.0681 - acc: 0.5000\n",
            "Epoch 80/300\n",
            "2/2 [==============================] - 0s 4ms/step - loss: 1.0689 - acc: 0.5000\n",
            "Epoch 81/300\n",
            "2/2 [==============================] - 0s 4ms/step - loss: 1.0692 - acc: 0.4643\n",
            "Epoch 82/300\n",
            "2/2 [==============================] - 0s 4ms/step - loss: 1.0671 - acc: 0.5179\n",
            "Epoch 83/300\n",
            "2/2 [==============================] - 0s 4ms/step - loss: 1.0682 - acc: 0.4821\n",
            "Epoch 84/300\n",
            "2/2 [==============================] - 0s 8ms/step - loss: 1.0675 - acc: 0.5179\n",
            "Epoch 85/300\n",
            "2/2 [==============================] - 0s 3ms/step - loss: 1.0708 - acc: 0.4821\n",
            "Epoch 86/300\n",
            "2/2 [==============================] - 0s 4ms/step - loss: 1.0677 - acc: 0.4643\n",
            "Epoch 87/300\n",
            "2/2 [==============================] - 0s 4ms/step - loss: 1.0764 - acc: 0.5000\n",
            "Epoch 88/300\n",
            "2/2 [==============================] - 0s 4ms/step - loss: 1.0766 - acc: 0.4464\n",
            "Epoch 89/300\n",
            "2/2 [==============================] - 0s 4ms/step - loss: 1.0656 - acc: 0.5357\n",
            "Epoch 90/300\n",
            "2/2 [==============================] - 0s 3ms/step - loss: 1.0650 - acc: 0.4821\n",
            "Epoch 91/300\n",
            "2/2 [==============================] - 0s 3ms/step - loss: 1.0651 - acc: 0.5179\n",
            "Epoch 92/300\n",
            "2/2 [==============================] - 0s 3ms/step - loss: 1.0696 - acc: 0.4643\n",
            "Epoch 93/300\n",
            "2/2 [==============================] - 0s 3ms/step - loss: 1.0760 - acc: 0.4821\n",
            "Epoch 94/300\n",
            "2/2 [==============================] - 0s 3ms/step - loss: 1.0688 - acc: 0.4821\n",
            "Epoch 95/300\n",
            "2/2 [==============================] - 0s 3ms/step - loss: 1.0640 - acc: 0.5357\n",
            "Epoch 96/300\n",
            "2/2 [==============================] - 0s 4ms/step - loss: 1.0722 - acc: 0.4643\n",
            "Epoch 97/300\n",
            "2/2 [==============================] - 0s 4ms/step - loss: 1.0798 - acc: 0.4821\n",
            "Epoch 98/300\n",
            "2/2 [==============================] - 0s 4ms/step - loss: 1.0654 - acc: 0.5179\n",
            "Epoch 99/300\n",
            "2/2 [==============================] - 0s 9ms/step - loss: 1.0647 - acc: 0.5000\n",
            "Epoch 100/300\n",
            "2/2 [==============================] - 0s 4ms/step - loss: 1.0659 - acc: 0.5000\n",
            "Epoch 101/300\n",
            "2/2 [==============================] - 0s 3ms/step - loss: 1.0680 - acc: 0.5357\n",
            "Epoch 102/300\n",
            "2/2 [==============================] - 0s 10ms/step - loss: 1.0624 - acc: 0.5357\n",
            "Epoch 103/300\n",
            "2/2 [==============================] - 0s 9ms/step - loss: 1.0633 - acc: 0.5000\n",
            "Epoch 104/300\n",
            "2/2 [==============================] - 0s 4ms/step - loss: 1.0725 - acc: 0.4643\n",
            "Epoch 105/300\n",
            "2/2 [==============================] - 0s 4ms/step - loss: 1.0663 - acc: 0.4821\n",
            "Epoch 106/300\n",
            "2/2 [==============================] - 0s 3ms/step - loss: 1.0622 - acc: 0.5000\n",
            "Epoch 107/300\n",
            "2/2 [==============================] - 0s 3ms/step - loss: 1.0629 - acc: 0.5179\n",
            "Epoch 108/300\n",
            "2/2 [==============================] - 0s 7ms/step - loss: 1.0608 - acc: 0.4643\n",
            "Epoch 109/300\n",
            "2/2 [==============================] - 0s 3ms/step - loss: 1.0726 - acc: 0.4821\n",
            "Epoch 110/300\n",
            "2/2 [==============================] - 0s 3ms/step - loss: 1.0664 - acc: 0.5179\n",
            "Epoch 111/300\n",
            "2/2 [==============================] - 0s 4ms/step - loss: 1.0607 - acc: 0.5357\n",
            "Epoch 112/300\n",
            "2/2 [==============================] - 0s 3ms/step - loss: 1.0673 - acc: 0.5000\n",
            "Epoch 113/300\n",
            "2/2 [==============================] - 0s 3ms/step - loss: 1.0645 - acc: 0.5357\n",
            "Epoch 114/300\n",
            "2/2 [==============================] - 0s 4ms/step - loss: 1.0686 - acc: 0.5000\n",
            "Epoch 115/300\n",
            "2/2 [==============================] - 0s 8ms/step - loss: 1.0619 - acc: 0.5000\n",
            "Epoch 116/300\n",
            "2/2 [==============================] - 0s 5ms/step - loss: 1.0619 - acc: 0.5000\n",
            "Epoch 117/300\n",
            "2/2 [==============================] - 0s 5ms/step - loss: 1.0622 - acc: 0.5357\n",
            "Epoch 118/300\n",
            "2/2 [==============================] - 0s 14ms/step - loss: 1.0639 - acc: 0.5179\n",
            "Epoch 119/300\n",
            "2/2 [==============================] - 0s 5ms/step - loss: 1.0595 - acc: 0.4643\n",
            "Epoch 120/300\n",
            "2/2 [==============================] - 0s 8ms/step - loss: 1.0605 - acc: 0.5179\n",
            "Epoch 121/300\n",
            "2/2 [==============================] - 0s 7ms/step - loss: 1.0642 - acc: 0.5000\n",
            "Epoch 122/300\n",
            "2/2 [==============================] - 0s 5ms/step - loss: 1.0616 - acc: 0.5179\n",
            "Epoch 123/300\n",
            "2/2 [==============================] - 0s 7ms/step - loss: 1.0648 - acc: 0.5000\n",
            "Epoch 124/300\n",
            "2/2 [==============================] - 0s 4ms/step - loss: 1.0617 - acc: 0.4821\n",
            "Epoch 125/300\n",
            "2/2 [==============================] - 0s 3ms/step - loss: 1.0582 - acc: 0.4643\n",
            "Epoch 126/300\n",
            "2/2 [==============================] - 0s 3ms/step - loss: 1.0600 - acc: 0.5000\n",
            "Epoch 127/300\n",
            "2/2 [==============================] - 0s 3ms/step - loss: 1.0611 - acc: 0.5179\n",
            "Epoch 128/300\n",
            "2/2 [==============================] - 0s 4ms/step - loss: 1.0583 - acc: 0.4821\n",
            "Epoch 129/300\n",
            "2/2 [==============================] - 0s 3ms/step - loss: 1.0579 - acc: 0.5357\n",
            "Epoch 130/300\n",
            "2/2 [==============================] - 0s 5ms/step - loss: 1.0579 - acc: 0.5357\n",
            "Epoch 131/300\n",
            "2/2 [==============================] - 0s 3ms/step - loss: 1.0618 - acc: 0.5000\n",
            "Epoch 132/300\n",
            "2/2 [==============================] - 0s 4ms/step - loss: 1.0635 - acc: 0.5536\n",
            "Epoch 133/300\n",
            "2/2 [==============================] - 0s 10ms/step - loss: 1.0616 - acc: 0.5000\n",
            "Epoch 134/300\n",
            "2/2 [==============================] - 0s 4ms/step - loss: 1.0766 - acc: 0.4643\n",
            "Epoch 135/300\n",
            "2/2 [==============================] - 0s 6ms/step - loss: 1.0590 - acc: 0.5000\n",
            "Epoch 136/300\n",
            "2/2 [==============================] - 0s 5ms/step - loss: 1.0577 - acc: 0.5357\n",
            "Epoch 137/300\n",
            "2/2 [==============================] - 0s 7ms/step - loss: 1.0637 - acc: 0.4464\n",
            "Epoch 138/300\n",
            "2/2 [==============================] - 0s 6ms/step - loss: 1.0582 - acc: 0.5536\n",
            "Epoch 139/300\n",
            "2/2 [==============================] - 0s 6ms/step - loss: 1.0593 - acc: 0.5357\n",
            "Epoch 140/300\n",
            "2/2 [==============================] - 0s 4ms/step - loss: 1.0580 - acc: 0.5179\n",
            "Epoch 141/300\n",
            "2/2 [==============================] - 0s 4ms/step - loss: 1.0587 - acc: 0.5179\n",
            "Epoch 142/300\n",
            "2/2 [==============================] - 0s 7ms/step - loss: 1.0591 - acc: 0.5357\n",
            "Epoch 143/300\n",
            "2/2 [==============================] - 0s 27ms/step - loss: 1.0601 - acc: 0.5000\n",
            "Epoch 144/300\n",
            "2/2 [==============================] - 0s 3ms/step - loss: 1.0596 - acc: 0.5179\n",
            "Epoch 145/300\n",
            "2/2 [==============================] - 0s 6ms/step - loss: 1.0599 - acc: 0.5000\n",
            "Epoch 146/300\n",
            "2/2 [==============================] - 0s 6ms/step - loss: 1.0569 - acc: 0.5357\n",
            "Epoch 147/300\n",
            "2/2 [==============================] - 0s 6ms/step - loss: 1.0618 - acc: 0.5179\n",
            "Epoch 148/300\n",
            "2/2 [==============================] - 0s 9ms/step - loss: 1.0672 - acc: 0.4464\n",
            "Epoch 149/300\n",
            "2/2 [==============================] - 0s 4ms/step - loss: 1.0576 - acc: 0.5000\n",
            "Epoch 150/300\n",
            "2/2 [==============================] - 0s 5ms/step - loss: 1.0581 - acc: 0.5357\n",
            "Epoch 151/300\n",
            "2/2 [==============================] - 0s 7ms/step - loss: 1.0609 - acc: 0.5179\n",
            "Epoch 152/300\n",
            "2/2 [==============================] - 0s 3ms/step - loss: 1.0554 - acc: 0.5000\n",
            "Epoch 153/300\n",
            "2/2 [==============================] - 0s 5ms/step - loss: 1.0635 - acc: 0.4821\n",
            "Epoch 154/300\n",
            "2/2 [==============================] - 0s 7ms/step - loss: 1.0551 - acc: 0.5357\n",
            "Epoch 155/300\n",
            "2/2 [==============================] - 0s 4ms/step - loss: 1.0575 - acc: 0.5179\n",
            "Epoch 156/300\n",
            "2/2 [==============================] - 0s 7ms/step - loss: 1.0550 - acc: 0.5357\n",
            "Epoch 157/300\n",
            "2/2 [==============================] - 0s 9ms/step - loss: 1.0555 - acc: 0.5179\n",
            "Epoch 158/300\n",
            "2/2 [==============================] - 0s 5ms/step - loss: 1.0580 - acc: 0.5357\n",
            "Epoch 159/300\n",
            "2/2 [==============================] - 0s 9ms/step - loss: 1.0550 - acc: 0.5357\n",
            "Epoch 160/300\n",
            "2/2 [==============================] - 0s 4ms/step - loss: 1.0588 - acc: 0.4821\n",
            "Epoch 161/300\n",
            "2/2 [==============================] - 0s 7ms/step - loss: 1.0579 - acc: 0.5179\n",
            "Epoch 162/300\n",
            "2/2 [==============================] - 0s 5ms/step - loss: 1.0573 - acc: 0.4821\n",
            "Epoch 163/300\n",
            "2/2 [==============================] - 0s 6ms/step - loss: 1.0608 - acc: 0.4821\n",
            "Epoch 164/300\n",
            "2/2 [==============================] - 0s 8ms/step - loss: 1.0640 - acc: 0.4643\n",
            "Epoch 165/300\n",
            "2/2 [==============================] - 0s 4ms/step - loss: 1.0543 - acc: 0.5536\n",
            "Epoch 166/300\n",
            "2/2 [==============================] - 0s 8ms/step - loss: 1.0556 - acc: 0.5179\n",
            "Epoch 167/300\n",
            "2/2 [==============================] - 0s 5ms/step - loss: 1.0541 - acc: 0.5536\n",
            "Epoch 168/300\n",
            "2/2 [==============================] - 0s 8ms/step - loss: 1.0550 - acc: 0.5357\n",
            "Epoch 169/300\n",
            "2/2 [==============================] - 0s 8ms/step - loss: 1.0560 - acc: 0.5179\n",
            "Epoch 170/300\n",
            "2/2 [==============================] - 0s 4ms/step - loss: 1.0538 - acc: 0.5536\n",
            "Epoch 171/300\n",
            "2/2 [==============================] - 0s 5ms/step - loss: 1.0572 - acc: 0.5000\n",
            "Epoch 172/300\n",
            "2/2 [==============================] - 0s 4ms/step - loss: 1.0544 - acc: 0.5000\n",
            "Epoch 173/300\n",
            "2/2 [==============================] - 0s 4ms/step - loss: 1.0558 - acc: 0.5000\n",
            "Epoch 174/300\n",
            "2/2 [==============================] - 0s 5ms/step - loss: 1.0536 - acc: 0.5536\n",
            "Epoch 175/300\n",
            "2/2 [==============================] - 0s 6ms/step - loss: 1.0555 - acc: 0.4643\n",
            "Epoch 176/300\n",
            "2/2 [==============================] - 0s 4ms/step - loss: 1.0553 - acc: 0.5357\n",
            "Epoch 177/300\n",
            "2/2 [==============================] - 0s 6ms/step - loss: 1.0566 - acc: 0.5000\n",
            "Epoch 178/300\n",
            "2/2 [==============================] - 0s 4ms/step - loss: 1.0534 - acc: 0.4821\n",
            "Epoch 179/300\n",
            "2/2 [==============================] - 0s 8ms/step - loss: 1.0530 - acc: 0.5179\n",
            "Epoch 180/300\n",
            "2/2 [==============================] - 0s 6ms/step - loss: 1.0631 - acc: 0.4821\n",
            "Epoch 181/300\n",
            "2/2 [==============================] - 0s 3ms/step - loss: 1.0671 - acc: 0.5357\n",
            "Epoch 182/300\n",
            "2/2 [==============================] - 0s 4ms/step - loss: 1.0538 - acc: 0.4821\n",
            "Epoch 183/300\n",
            "2/2 [==============================] - 0s 4ms/step - loss: 1.0564 - acc: 0.4643\n",
            "Epoch 184/300\n",
            "2/2 [==============================] - 0s 5ms/step - loss: 1.0571 - acc: 0.5357\n",
            "Epoch 185/300\n",
            "2/2 [==============================] - 0s 5ms/step - loss: 1.0568 - acc: 0.5357\n",
            "Epoch 186/300\n",
            "2/2 [==============================] - 0s 4ms/step - loss: 1.0529 - acc: 0.5357\n",
            "Epoch 187/300\n",
            "2/2 [==============================] - 0s 5ms/step - loss: 1.0575 - acc: 0.5357\n",
            "Epoch 188/300\n",
            "2/2 [==============================] - 0s 5ms/step - loss: 1.0524 - acc: 0.4821\n",
            "Epoch 189/300\n",
            "2/2 [==============================] - 0s 16ms/step - loss: 1.0556 - acc: 0.5000\n",
            "Epoch 190/300\n",
            "2/2 [==============================] - 0s 7ms/step - loss: 1.0523 - acc: 0.5000\n",
            "Epoch 191/300\n",
            "2/2 [==============================] - 0s 4ms/step - loss: 1.0597 - acc: 0.5000\n",
            "Epoch 192/300\n",
            "2/2 [==============================] - 0s 8ms/step - loss: 1.0525 - acc: 0.5536\n",
            "Epoch 193/300\n",
            "2/2 [==============================] - 0s 10ms/step - loss: 1.0565 - acc: 0.5357\n",
            "Epoch 194/300\n",
            "2/2 [==============================] - 0s 4ms/step - loss: 1.0534 - acc: 0.5000\n",
            "Epoch 195/300\n",
            "2/2 [==============================] - 0s 9ms/step - loss: 1.0542 - acc: 0.5179\n",
            "Epoch 196/300\n",
            "2/2 [==============================] - 0s 10ms/step - loss: 1.0599 - acc: 0.5179\n",
            "Epoch 197/300\n",
            "2/2 [==============================] - 0s 5ms/step - loss: 1.0604 - acc: 0.4643\n",
            "Epoch 198/300\n",
            "2/2 [==============================] - 0s 5ms/step - loss: 1.0587 - acc: 0.4821\n",
            "Epoch 199/300\n",
            "2/2 [==============================] - 0s 7ms/step - loss: 1.0539 - acc: 0.4643\n",
            "Epoch 200/300\n",
            "2/2 [==============================] - 0s 5ms/step - loss: 1.0524 - acc: 0.5000\n",
            "Epoch 201/300\n",
            "2/2 [==============================] - 0s 9ms/step - loss: 1.0609 - acc: 0.4643\n",
            "Epoch 202/300\n",
            "2/2 [==============================] - 0s 12ms/step - loss: 1.0586 - acc: 0.5357\n",
            "Epoch 203/300\n",
            "2/2 [==============================] - 0s 11ms/step - loss: 1.0607 - acc: 0.4643\n",
            "Epoch 204/300\n",
            "2/2 [==============================] - 0s 6ms/step - loss: 1.0572 - acc: 0.5000\n",
            "Epoch 205/300\n",
            "2/2 [==============================] - 0s 8ms/step - loss: 1.0512 - acc: 0.5000\n",
            "Epoch 206/300\n",
            "2/2 [==============================] - 0s 9ms/step - loss: 1.0532 - acc: 0.5179\n",
            "Epoch 207/300\n",
            "2/2 [==============================] - 0s 12ms/step - loss: 1.0624 - acc: 0.5000\n",
            "Epoch 208/300\n",
            "2/2 [==============================] - 0s 8ms/step - loss: 1.0519 - acc: 0.5179\n",
            "Epoch 209/300\n",
            "2/2 [==============================] - 0s 7ms/step - loss: 1.0588 - acc: 0.5536\n",
            "Epoch 210/300\n",
            "2/2 [==============================] - 0s 5ms/step - loss: 1.0534 - acc: 0.5000\n",
            "Epoch 211/300\n",
            "2/2 [==============================] - 0s 9ms/step - loss: 1.0519 - acc: 0.5536\n",
            "Epoch 212/300\n",
            "2/2 [==============================] - 0s 17ms/step - loss: 1.0525 - acc: 0.5179\n",
            "Epoch 213/300\n",
            "2/2 [==============================] - 0s 17ms/step - loss: 1.0523 - acc: 0.5357\n",
            "Epoch 214/300\n",
            "2/2 [==============================] - 0s 4ms/step - loss: 1.0532 - acc: 0.5000\n",
            "Epoch 215/300\n",
            "2/2 [==============================] - 0s 4ms/step - loss: 1.0530 - acc: 0.5179\n",
            "Epoch 216/300\n",
            "2/2 [==============================] - 0s 5ms/step - loss: 1.0534 - acc: 0.5357\n",
            "Epoch 217/300\n",
            "2/2 [==============================] - 0s 7ms/step - loss: 1.0539 - acc: 0.4821\n",
            "Epoch 218/300\n",
            "2/2 [==============================] - 0s 7ms/step - loss: 1.0536 - acc: 0.5357\n",
            "Epoch 219/300\n",
            "2/2 [==============================] - 0s 7ms/step - loss: 1.0509 - acc: 0.5000\n",
            "Epoch 220/300\n",
            "2/2 [==============================] - 0s 14ms/step - loss: 1.0516 - acc: 0.5179\n",
            "Epoch 221/300\n",
            "2/2 [==============================] - 0s 11ms/step - loss: 1.0537 - acc: 0.5357\n",
            "Epoch 222/300\n",
            "2/2 [==============================] - 0s 13ms/step - loss: 1.0606 - acc: 0.5000\n",
            "Epoch 223/300\n",
            "2/2 [==============================] - 0s 9ms/step - loss: 1.0513 - acc: 0.5357\n",
            "Epoch 224/300\n",
            "2/2 [==============================] - 0s 8ms/step - loss: 1.0557 - acc: 0.5000\n",
            "Epoch 225/300\n",
            "2/2 [==============================] - 0s 6ms/step - loss: 1.0507 - acc: 0.5179\n",
            "Epoch 226/300\n",
            "2/2 [==============================] - 0s 4ms/step - loss: 1.0521 - acc: 0.5000\n",
            "Epoch 227/300\n",
            "2/2 [==============================] - 0s 4ms/step - loss: 1.0542 - acc: 0.5179\n",
            "Epoch 228/300\n",
            "2/2 [==============================] - 0s 6ms/step - loss: 1.0523 - acc: 0.5000\n",
            "Epoch 229/300\n",
            "2/2 [==============================] - 0s 4ms/step - loss: 1.0563 - acc: 0.5000\n",
            "Epoch 230/300\n",
            "2/2 [==============================] - 0s 4ms/step - loss: 1.0512 - acc: 0.5179\n",
            "Epoch 231/300\n",
            "2/2 [==============================] - 0s 7ms/step - loss: 1.0545 - acc: 0.5179\n",
            "Epoch 232/300\n",
            "2/2 [==============================] - 0s 4ms/step - loss: 1.0546 - acc: 0.5357\n",
            "Epoch 233/300\n",
            "2/2 [==============================] - 0s 4ms/step - loss: 1.0515 - acc: 0.5536\n",
            "Epoch 234/300\n",
            "2/2 [==============================] - 0s 7ms/step - loss: 1.0520 - acc: 0.5357\n",
            "Epoch 235/300\n",
            "2/2 [==============================] - 0s 4ms/step - loss: 1.0496 - acc: 0.5179\n",
            "Epoch 236/300\n",
            "2/2 [==============================] - 0s 3ms/step - loss: 1.0499 - acc: 0.5000\n",
            "Epoch 237/300\n",
            "2/2 [==============================] - 0s 9ms/step - loss: 1.0503 - acc: 0.5179\n",
            "Epoch 238/300\n",
            "2/2 [==============================] - 0s 9ms/step - loss: 1.0508 - acc: 0.5179\n",
            "Epoch 239/300\n",
            "2/2 [==============================] - 0s 9ms/step - loss: 1.0578 - acc: 0.5179\n",
            "Epoch 240/300\n",
            "2/2 [==============================] - 0s 5ms/step - loss: 1.0501 - acc: 0.5179\n",
            "Epoch 241/300\n",
            "2/2 [==============================] - 0s 8ms/step - loss: 1.0567 - acc: 0.5179\n",
            "Epoch 242/300\n",
            "2/2 [==============================] - 0s 4ms/step - loss: 1.0509 - acc: 0.5000\n",
            "Epoch 243/300\n",
            "2/2 [==============================] - 0s 8ms/step - loss: 1.0530 - acc: 0.4643\n",
            "Epoch 244/300\n",
            "2/2 [==============================] - 0s 4ms/step - loss: 1.0494 - acc: 0.5536\n",
            "Epoch 245/300\n",
            "2/2 [==============================] - 0s 6ms/step - loss: 1.0518 - acc: 0.5179\n",
            "Epoch 246/300\n",
            "2/2 [==============================] - 0s 5ms/step - loss: 1.0491 - acc: 0.5179\n",
            "Epoch 247/300\n",
            "2/2 [==============================] - 0s 4ms/step - loss: 1.0568 - acc: 0.5179\n",
            "Epoch 248/300\n",
            "2/2 [==============================] - 0s 10ms/step - loss: 1.0495 - acc: 0.5179\n",
            "Epoch 249/300\n",
            "2/2 [==============================] - 0s 4ms/step - loss: 1.0492 - acc: 0.5357\n",
            "Epoch 250/300\n",
            "2/2 [==============================] - 0s 3ms/step - loss: 1.0511 - acc: 0.5000\n",
            "Epoch 251/300\n",
            "2/2 [==============================] - 0s 9ms/step - loss: 1.0514 - acc: 0.5536\n",
            "Epoch 252/300\n",
            "2/2 [==============================] - 0s 8ms/step - loss: 1.0488 - acc: 0.5179\n",
            "Epoch 253/300\n",
            "2/2 [==============================] - 0s 3ms/step - loss: 1.0504 - acc: 0.5179\n",
            "Epoch 254/300\n",
            "2/2 [==============================] - 0s 6ms/step - loss: 1.0516 - acc: 0.5179\n",
            "Epoch 255/300\n",
            "2/2 [==============================] - 0s 6ms/step - loss: 1.0488 - acc: 0.5179\n",
            "Epoch 256/300\n",
            "2/2 [==============================] - 0s 7ms/step - loss: 1.0571 - acc: 0.5179\n",
            "Epoch 257/300\n",
            "2/2 [==============================] - 0s 8ms/step - loss: 1.0532 - acc: 0.4643\n",
            "Epoch 258/300\n",
            "2/2 [==============================] - 0s 6ms/step - loss: 1.0649 - acc: 0.4643\n",
            "Epoch 259/300\n",
            "2/2 [==============================] - 0s 4ms/step - loss: 1.0530 - acc: 0.4643\n",
            "Epoch 260/300\n",
            "2/2 [==============================] - 0s 7ms/step - loss: 1.0521 - acc: 0.4821\n",
            "Epoch 261/300\n",
            "2/2 [==============================] - 0s 4ms/step - loss: 1.0489 - acc: 0.5000\n",
            "Epoch 262/300\n",
            "2/2 [==============================] - 0s 3ms/step - loss: 1.0498 - acc: 0.5000\n",
            "Epoch 263/300\n",
            "2/2 [==============================] - 0s 7ms/step - loss: 1.0485 - acc: 0.5536\n",
            "Epoch 264/300\n",
            "2/2 [==============================] - 0s 13ms/step - loss: 1.0496 - acc: 0.5000\n",
            "Epoch 265/300\n",
            "2/2 [==============================] - 0s 12ms/step - loss: 1.0485 - acc: 0.5357\n",
            "Epoch 266/300\n",
            "2/2 [==============================] - 0s 6ms/step - loss: 1.0497 - acc: 0.5536\n",
            "Epoch 267/300\n",
            "2/2 [==============================] - 0s 4ms/step - loss: 1.0495 - acc: 0.5536\n",
            "Epoch 268/300\n",
            "2/2 [==============================] - 0s 4ms/step - loss: 1.0487 - acc: 0.5000\n",
            "Epoch 269/300\n",
            "2/2 [==============================] - 0s 11ms/step - loss: 1.0525 - acc: 0.4821\n",
            "Epoch 270/300\n",
            "2/2 [==============================] - 0s 4ms/step - loss: 1.0498 - acc: 0.5179\n",
            "Epoch 271/300\n",
            "2/2 [==============================] - 0s 8ms/step - loss: 1.0601 - acc: 0.4464\n",
            "Epoch 272/300\n",
            "2/2 [==============================] - 0s 3ms/step - loss: 1.0490 - acc: 0.4821\n",
            "Epoch 273/300\n",
            "2/2 [==============================] - 0s 9ms/step - loss: 1.0479 - acc: 0.5179\n",
            "Epoch 274/300\n",
            "2/2 [==============================] - 0s 9ms/step - loss: 1.0511 - acc: 0.5000\n",
            "Epoch 275/300\n",
            "2/2 [==============================] - 0s 13ms/step - loss: 1.0492 - acc: 0.5536\n",
            "Epoch 276/300\n",
            "2/2 [==============================] - 0s 5ms/step - loss: 1.0499 - acc: 0.5179\n",
            "Epoch 277/300\n",
            "2/2 [==============================] - 0s 4ms/step - loss: 1.0507 - acc: 0.5179\n",
            "Epoch 278/300\n",
            "2/2 [==============================] - 0s 5ms/step - loss: 1.0546 - acc: 0.5179\n",
            "Epoch 279/300\n",
            "2/2 [==============================] - 0s 13ms/step - loss: 1.0499 - acc: 0.5000\n",
            "Epoch 280/300\n",
            "2/2 [==============================] - 0s 6ms/step - loss: 1.0531 - acc: 0.4643\n",
            "Epoch 281/300\n",
            "2/2 [==============================] - 0s 5ms/step - loss: 1.0514 - acc: 0.5000\n",
            "Epoch 282/300\n",
            "2/2 [==============================] - 0s 4ms/step - loss: 1.0491 - acc: 0.5357\n",
            "Epoch 283/300\n",
            "2/2 [==============================] - 0s 5ms/step - loss: 1.0519 - acc: 0.5179\n",
            "Epoch 284/300\n",
            "2/2 [==============================] - 0s 5ms/step - loss: 1.0474 - acc: 0.5536\n",
            "Epoch 285/300\n",
            "2/2 [==============================] - 0s 7ms/step - loss: 1.0541 - acc: 0.5357\n",
            "Epoch 286/300\n",
            "2/2 [==============================] - 0s 5ms/step - loss: 1.0483 - acc: 0.5000\n",
            "Epoch 287/300\n",
            "2/2 [==============================] - 0s 4ms/step - loss: 1.0536 - acc: 0.4821\n",
            "Epoch 288/300\n",
            "2/2 [==============================] - 0s 4ms/step - loss: 1.0482 - acc: 0.5536\n",
            "Epoch 289/300\n",
            "2/2 [==============================] - 0s 8ms/step - loss: 1.0482 - acc: 0.5357\n",
            "Epoch 290/300\n",
            "2/2 [==============================] - 0s 8ms/step - loss: 1.0477 - acc: 0.5179\n",
            "Epoch 291/300\n",
            "2/2 [==============================] - 0s 8ms/step - loss: 1.0495 - acc: 0.5536\n",
            "Epoch 292/300\n",
            "2/2 [==============================] - 0s 16ms/step - loss: 1.0555 - acc: 0.5179\n",
            "Epoch 293/300\n",
            "2/2 [==============================] - 0s 6ms/step - loss: 1.0478 - acc: 0.5357\n",
            "Epoch 294/300\n",
            "2/2 [==============================] - 0s 3ms/step - loss: 1.0472 - acc: 0.5357\n",
            "Epoch 295/300\n",
            "2/2 [==============================] - 0s 14ms/step - loss: 1.0484 - acc: 0.5536\n",
            "Epoch 296/300\n",
            "2/2 [==============================] - 0s 5ms/step - loss: 1.0508 - acc: 0.5000\n",
            "Epoch 297/300\n",
            "2/2 [==============================] - 0s 5ms/step - loss: 1.0488 - acc: 0.5000\n",
            "Epoch 298/300\n",
            "2/2 [==============================] - 0s 12ms/step - loss: 1.0484 - acc: 0.5179\n",
            "Epoch 299/300\n",
            "2/2 [==============================] - 0s 4ms/step - loss: 1.0492 - acc: 0.5536\n",
            "Epoch 300/300\n",
            "2/2 [==============================] - 0s 18ms/step - loss: 1.0483 - acc: 0.5000\n"
          ]
        },
        {
          "output_type": "execute_result",
          "data": {
            "text/plain": [
              "<keras.callbacks.History at 0x7f2e24318090>"
            ]
          },
          "metadata": {},
          "execution_count": 38
        }
      ]
    },
    {
      "cell_type": "code",
      "metadata": {
        "colab": {
          "base_uri": "https://localhost:8080/"
        },
        "id": "ylL4n5ZeMB0J",
        "outputId": "75fb8e77-d2f3-47fb-d71c-31d1a6096231"
      },
      "source": [
        "Y_pred_onehot = model.predict(x_train)\n",
        "Y_pred = [np.argmax(Y_pred_onehot) for Y_pred_onehot in Y_pred_onehot]\n",
        "print(Y_pred)"
      ],
      "execution_count": null,
      "outputs": [
        {
          "output_type": "stream",
          "name": "stdout",
          "text": [
            "[1, 2, 1, 2, 1, 2, 1, 1, 1, 1, 2, 2, 1, 1, 1, 2, 2, 1, 1, 1, 1, 2, 1, 2, 2, 2, 2, 2, 2, 1, 1, 2, 1, 1, 1, 2, 2, 1, 1, 1, 2, 1, 1, 1, 1, 2, 1, 1, 1, 1, 1, 1, 1, 1, 2, 1]\n"
          ]
        }
      ]
    },
    {
      "cell_type": "code",
      "metadata": {
        "colab": {
          "base_uri": "https://localhost:8080/",
          "height": 265
        },
        "id": "NYnLoxz4MLJY",
        "outputId": "66d2b6b3-f2bd-43a5-b964-480c99fa18fc"
      },
      "source": [
        "plt.plot(y_data,marker='o',linestyle='')\n",
        "plt.plot(Y_pred,marker='*',linestyle='')\n",
        "plt.show()"
      ],
      "execution_count": null,
      "outputs": [
        {
          "output_type": "display_data",
          "data": {
            "image/png": "[encoded data removed]",
            "text/plain": [
              "<Figure size 432x288 with 1 Axes>"
            ]
          },
          "metadata": {
            "needs_background": "light"
          }
        }
      ]
    },
    {
      "cell_type": "markdown",
      "metadata": {
        "id": "434oKUUne5sO"
      },
      "source": [
        "### **Decision Tree**"
      ]
    },
    {
      "cell_type": "code",
      "metadata": {
        "colab": {
          "base_uri": "https://localhost:8080/",
          "height": 375
        },
        "id": "alwbgVKL7IGc",
        "outputId": "c6e70ce8-4971-444b-8da4-e869a4dafc75"
      },
      "source": [
        "from sklearn import tree\n",
        "dt=tree.DecisionTreeClassifier()\n",
        "dt.fit(x_train,y_train)\n",
        "dt.score(x_train,y_train)\n",
        "tree.plot_tree(dt)"
      ],
      "execution_count": null,
      "outputs": [
        {
          "output_type": "execute_result",
          "data": {
            "text/plain": [
              "[Text(200.88000000000002, 190.26, 'X[3] <= 1.65\\ngini = 0.42\\nsamples = 56\\nvalue = [[46, 10]\\n[34, 22]\\n[32, 24]]'),\n",
              " Text(133.92000000000002, 135.9, 'X[1] <= 2.5\\ngini = 0.328\\nsamples = 34\\nvalue = [[24, 10]\\n[12, 22]\\n[32, 2]]'),\n",
              " Text(66.96000000000001, 81.53999999999999, 'gini = 0.0\\nsamples = 10\\nvalue = [[0, 10]\\n[10, 0]\\n[10, 0]]'),\n",
              " Text(200.88000000000002, 81.53999999999999, 'X[1] <= 4.95\\ngini = 0.102\\nsamples = 24\\nvalue = [[24, 0]\\n[2, 22]\\n[22, 2]]'),\n",
              " Text(133.92000000000002, 27.180000000000007, 'gini = 0.0\\nsamples = 22\\nvalue = [[22, 0]\\n[0, 22]\\n[22, 0]]'),\n",
              " Text(267.84000000000003, 27.180000000000007, 'gini = 0.0\\nsamples = 2\\nvalue = [[2, 0]\\n[2, 0]\\n[0, 2]]'),\n",
              " Text(267.84000000000003, 135.9, 'gini = 0.0\\nsamples = 22\\nvalue = [[22, 0]\\n[22, 0]\\n[0, 22]]')]"
            ]
          },
          "metadata": {},
          "execution_count": 21
        },
        {
          "output_type": "display_data",
          "data": {
            "image/png": "[encoded data removed]",
            "text/plain": [
              "<Figure size 432x288 with 1 Axes>"
            ]
          },
          "metadata": {
            "needs_background": "light"
          }
        }
      ]
    },
    {
      "cell_type": "markdown",
      "metadata": {
        "id": "_kEJW2MKrxWU"
      },
      "source": [
        "### **내가찾은모델**"
      ]
    },
    {
      "cell_type": "code",
      "metadata": {
        "id": "oKjhs7Z6r0eE"
      },
      "source": [
        ""
      ],
      "execution_count": null,
      "outputs": []
    },
    {
      "cell_type": "markdown",
      "metadata": {
        "id": "B4XFRndEsAs5"
      },
      "source": [
        "## 5. 모델 비교\n",
        "---\n",
        "* 어떤 모델이 가장 좋은지 간략히 브리핑 합니다."
      ]
    },
    {
      "cell_type": "code",
      "metadata": {
        "id": "-ENHmXvAsF-U"
      },
      "source": [
        ""
      ],
      "execution_count": null,
      "outputs": []
    }
  ]
}