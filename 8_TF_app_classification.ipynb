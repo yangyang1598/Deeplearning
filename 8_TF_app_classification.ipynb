{
  "nbformat": 4,
  "nbformat_minor": 0,
  "metadata": {
    "colab": {
      "name": "8_TF_app_classification.ipynb",
      "provenance": [],
      "collapsed_sections": [],
      "include_colab_link": true
    },
    "kernelspec": {
      "name": "python3",
      "display_name": "Python 3"
    },
    "language_info": {
      "name": "python"
    },
    "accelerator": "GPU"
  },
  "cells": [
    {
      "cell_type": "markdown",
      "metadata": {
        "id": "view-in-github",
        "colab_type": "text"
      },
      "source": [
        "<a href=\"https://colab.research.google.com/github/yangyang1598/Deeplearning/blob/main/8_TF_app_classification.ipynb\" target=\"_parent\"><img src=\"https://colab.research.google.com/assets/colab-badge.svg\" alt=\"Open In Colab\"/></a>"
      ]
    },
    {
      "cell_type": "markdown",
      "metadata": {
        "id": "OsKAZfbZRbNa"
      },
      "source": [
        "# 전이학습"
      ]
    },
    {
      "cell_type": "markdown",
      "metadata": {
        "id": "53g0bWh0Rdnr"
      },
      "source": [
        "## 텐서플로우 applications를 이용한 전이학습\n",
        "\n",
        "[https://www.tensorflow.org/api_docs/python/tf/keras/applications](https://www.tensorflow.org/api_docs/python/tf/keras/applications)"
      ]
    },
    {
      "cell_type": "code",
      "metadata": {
        "id": "F6RxzS5i5M2N"
      },
      "source": [
        "import tensorflow_datasets as tfds\n",
        "import tensorflow as tf\n",
        "from tensorflow.keras import applications\n",
        "from tensorflow.keras import layers, Model"
      ],
      "execution_count": null,
      "outputs": []
    },
    {
      "cell_type": "markdown",
      "metadata": {
        "id": "bOuDDfPKRvLa"
      },
      "source": [
        "### 데이터"
      ]
    },
    {
      "cell_type": "code",
      "metadata": {
        "id": "TKNvNIPZAJ-g",
        "colab": {
          "base_uri": "https://localhost:8080/"
        },
        "outputId": "ec199847-b898-4229-f31a-76735fe6376a"
      },
      "source": [
        "from tensorflow.keras import datasets,utils\n",
        "(x_train,y_train),(x_test,y_test)= datasets.cifar10.load_data()\n",
        "\n",
        "#데이터 전처리\n",
        "x_train,x_test=x_train/255,x_test/255\n",
        "#데이터 전처리\n",
        "y_train=utils.to_categorical(y_train,num_classes=10)\n",
        "y_test=utils.to_categorical(y_test,num_classes=10)\n",
        "\n",
        "x_train.shape,y_train.shape,x_test.shape,y_test.shape"
      ],
      "execution_count": null,
      "outputs": [
        {
          "output_type": "execute_result",
          "data": {
            "text/plain": [
              "((50000, 32, 32, 3), (50000, 10), (10000, 32, 32, 3), (10000, 10))"
            ]
          },
          "metadata": {},
          "execution_count": 16
        }
      ]
    },
    {
      "cell_type": "markdown",
      "metadata": {
        "id": "uYZl8KAGRx6e"
      },
      "source": [
        "### 모델 구현"
      ]
    },
    {
      "cell_type": "markdown",
      "metadata": {
        "id": "FUlnXIP4RolP"
      },
      "source": [
        "* 모델 불러오기"
      ]
    },
    {
      "cell_type": "code",
      "metadata": {
        "id": "fyAbYkOv8xqd",
        "colab": {
          "base_uri": "https://localhost:8080/"
        },
        "outputId": "0726daca-f84b-493b-c36a-99fee24cd402"
      },
      "source": [
        "base_model=applications.vgg16.VGG16(weights='imagenet',include_top=False,input_shape=[32,32,3]) #include_top: 첫 레이어 가져오기 여부, False: input_shape를 지정, True:input_shape를 안해도 자동으로 이전의 첫 레이어를 가져옴.\n",
        "\n",
        "base_model.summary()\n"
      ],
      "execution_count": null,
      "outputs": [
        {
          "output_type": "stream",
          "name": "stdout",
          "text": [
            "Downloading data from https://storage.googleapis.com/tensorflow/keras-applications/vgg16/vgg16_weights_tf_dim_ordering_tf_kernels_notop.h5\n",
            "58892288/58889256 [==============================] - 1s 0us/step\n",
            "58900480/58889256 [==============================] - 1s 0us/step\n",
            "Model: \"vgg16\"\n",
            "_________________________________________________________________\n",
            "Layer (type)                 Output Shape              Param #   \n",
            "=================================================================\n",
            "input_1 (InputLayer)         [(None, 32, 32, 3)]       0         \n",
            "_________________________________________________________________\n",
            "block1_conv1 (Conv2D)        (None, 32, 32, 64)        1792      \n",
            "_________________________________________________________________\n",
            "block1_conv2 (Conv2D)        (None, 32, 32, 64)        36928     \n",
            "_________________________________________________________________\n",
            "block1_pool (MaxPooling2D)   (None, 16, 16, 64)        0         \n",
            "_________________________________________________________________\n",
            "block2_conv1 (Conv2D)        (None, 16, 16, 128)       73856     \n",
            "_________________________________________________________________\n",
            "block2_conv2 (Conv2D)        (None, 16, 16, 128)       147584    \n",
            "_________________________________________________________________\n",
            "block2_pool (MaxPooling2D)   (None, 8, 8, 128)         0         \n",
            "_________________________________________________________________\n",
            "block3_conv1 (Conv2D)        (None, 8, 8, 256)         295168    \n",
            "_________________________________________________________________\n",
            "block3_conv2 (Conv2D)        (None, 8, 8, 256)         590080    \n",
            "_________________________________________________________________\n",
            "block3_conv3 (Conv2D)        (None, 8, 8, 256)         590080    \n",
            "_________________________________________________________________\n",
            "block3_pool (MaxPooling2D)   (None, 4, 4, 256)         0         \n",
            "_________________________________________________________________\n",
            "block4_conv1 (Conv2D)        (None, 4, 4, 512)         1180160   \n",
            "_________________________________________________________________\n",
            "block4_conv2 (Conv2D)        (None, 4, 4, 512)         2359808   \n",
            "_________________________________________________________________\n",
            "block4_conv3 (Conv2D)        (None, 4, 4, 512)         2359808   \n",
            "_________________________________________________________________\n",
            "block4_pool (MaxPooling2D)   (None, 2, 2, 512)         0         \n",
            "_________________________________________________________________\n",
            "block5_conv1 (Conv2D)        (None, 2, 2, 512)         2359808   \n",
            "_________________________________________________________________\n",
            "block5_conv2 (Conv2D)        (None, 2, 2, 512)         2359808   \n",
            "_________________________________________________________________\n",
            "block5_conv3 (Conv2D)        (None, 2, 2, 512)         2359808   \n",
            "_________________________________________________________________\n",
            "block5_pool (MaxPooling2D)   (None, 1, 1, 512)         0         \n",
            "=================================================================\n",
            "Total params: 14,714,688\n",
            "Trainable params: 14,714,688\n",
            "Non-trainable params: 0\n",
            "_________________________________________________________________\n"
          ]
        }
      ]
    },
    {
      "cell_type": "markdown",
      "metadata": {
        "id": "_qsn3SujRp7L"
      },
      "source": [
        "* 모델 조합하기"
      ]
    },
    {
      "cell_type": "code",
      "metadata": {
        "id": "KT9OKXhZ9jIR",
        "colab": {
          "base_uri": "https://localhost:8080/"
        },
        "outputId": "a945d7f3-00d2-45e6-ae45-6e5a886e29d7"
      },
      "source": [
        "from tensorflow.keras import layers, models\n",
        "\n",
        "x= base_model.output\n",
        "y=layers.Flatten(name='Add_flatten')(x)\n",
        "\n",
        "y=layers.Dense(128,activation='relu')(y) #중간에 들어가는 Dense의 activation은 relu\n",
        "y=layers.Dense(10,activation='softmax',name='Add_Dense')(y)\n",
        "\n",
        "\n",
        "model=models.Model(inputs=base_model.input,outputs=y)\n",
        "model.summary()\n"
      ],
      "execution_count": null,
      "outputs": [
        {
          "output_type": "stream",
          "name": "stdout",
          "text": [
            "Model: \"model\"\n",
            "_________________________________________________________________\n",
            "Layer (type)                 Output Shape              Param #   \n",
            "=================================================================\n",
            "input_1 (InputLayer)         [(None, 32, 32, 3)]       0         \n",
            "_________________________________________________________________\n",
            "block1_conv1 (Conv2D)        (None, 32, 32, 64)        1792      \n",
            "_________________________________________________________________\n",
            "block1_conv2 (Conv2D)        (None, 32, 32, 64)        36928     \n",
            "_________________________________________________________________\n",
            "block1_pool (MaxPooling2D)   (None, 16, 16, 64)        0         \n",
            "_________________________________________________________________\n",
            "block2_conv1 (Conv2D)        (None, 16, 16, 128)       73856     \n",
            "_________________________________________________________________\n",
            "block2_conv2 (Conv2D)        (None, 16, 16, 128)       147584    \n",
            "_________________________________________________________________\n",
            "block2_pool (MaxPooling2D)   (None, 8, 8, 128)         0         \n",
            "_________________________________________________________________\n",
            "block3_conv1 (Conv2D)        (None, 8, 8, 256)         295168    \n",
            "_________________________________________________________________\n",
            "block3_conv2 (Conv2D)        (None, 8, 8, 256)         590080    \n",
            "_________________________________________________________________\n",
            "block3_conv3 (Conv2D)        (None, 8, 8, 256)         590080    \n",
            "_________________________________________________________________\n",
            "block3_pool (MaxPooling2D)   (None, 4, 4, 256)         0         \n",
            "_________________________________________________________________\n",
            "block4_conv1 (Conv2D)        (None, 4, 4, 512)         1180160   \n",
            "_________________________________________________________________\n",
            "block4_conv2 (Conv2D)        (None, 4, 4, 512)         2359808   \n",
            "_________________________________________________________________\n",
            "block4_conv3 (Conv2D)        (None, 4, 4, 512)         2359808   \n",
            "_________________________________________________________________\n",
            "block4_pool (MaxPooling2D)   (None, 2, 2, 512)         0         \n",
            "_________________________________________________________________\n",
            "block5_conv1 (Conv2D)        (None, 2, 2, 512)         2359808   \n",
            "_________________________________________________________________\n",
            "block5_conv2 (Conv2D)        (None, 2, 2, 512)         2359808   \n",
            "_________________________________________________________________\n",
            "block5_conv3 (Conv2D)        (None, 2, 2, 512)         2359808   \n",
            "_________________________________________________________________\n",
            "block5_pool (MaxPooling2D)   (None, 1, 1, 512)         0         \n",
            "_________________________________________________________________\n",
            "Add_flatten (Flatten)        (None, 512)               0         \n",
            "_________________________________________________________________\n",
            "dense (Dense)                (None, 128)               65664     \n",
            "_________________________________________________________________\n",
            "Add_Dense (Dense)            (None, 10)                1290      \n",
            "=================================================================\n",
            "Total params: 14,781,642\n",
            "Trainable params: 14,781,642\n",
            "Non-trainable params: 0\n",
            "_________________________________________________________________\n"
          ]
        }
      ]
    },
    {
      "cell_type": "markdown",
      "metadata": {
        "id": "wWqfO6VeRt7T"
      },
      "source": [
        "* 컴파일"
      ]
    },
    {
      "cell_type": "code",
      "metadata": {
        "id": "XltEmuYt-X5J",
        "colab": {
          "base_uri": "https://localhost:8080/"
        },
        "outputId": "7b155b87-9511-423f-be9b-3bad597a50c8"
      },
      "source": [
        "for i in range(19):\n",
        "  print(i,model.layers[i])\n",
        "  model.layers[i].trainable=False\n"
      ],
      "execution_count": null,
      "outputs": [
        {
          "output_type": "stream",
          "name": "stdout",
          "text": [
            "0 <keras.engine.input_layer.InputLayer object at 0x7f6b9456ec50>\n",
            "1 <keras.layers.convolutional.Conv2D object at 0x7f6b93238890>\n",
            "2 <keras.layers.convolutional.Conv2D object at 0x7f6b93238fd0>\n",
            "3 <keras.layers.pooling.MaxPooling2D object at 0x7f6b9001e4d0>\n",
            "4 <keras.layers.convolutional.Conv2D object at 0x7f6b900237d0>\n",
            "5 <keras.layers.convolutional.Conv2D object at 0x7f6b931e2050>\n",
            "6 <keras.layers.pooling.MaxPooling2D object at 0x7f6b9001ecd0>\n",
            "7 <keras.layers.convolutional.Conv2D object at 0x7f6b90031490>\n",
            "8 <keras.layers.convolutional.Conv2D object at 0x7f6b900390d0>\n",
            "9 <keras.layers.convolutional.Conv2D object at 0x7f6b90031a90>\n",
            "10 <keras.layers.pooling.MaxPooling2D object at 0x7f6b900434d0>\n",
            "11 <keras.layers.convolutional.Conv2D object at 0x7f6b90046c10>\n",
            "12 <keras.layers.convolutional.Conv2D object at 0x7f6b9001ed10>\n",
            "13 <keras.layers.convolutional.Conv2D object at 0x7f6b9003fbd0>\n",
            "14 <keras.layers.pooling.MaxPooling2D object at 0x7f6b90055cd0>\n",
            "15 <keras.layers.convolutional.Conv2D object at 0x7f6b1b38f110>\n",
            "16 <keras.layers.convolutional.Conv2D object at 0x7f6b1b389e90>\n",
            "17 <keras.layers.convolutional.Conv2D object at 0x7f6b1b394bd0>\n",
            "18 <keras.layers.pooling.MaxPooling2D object at 0x7f6b1b3a0090>\n"
          ]
        }
      ]
    },
    {
      "cell_type": "code",
      "metadata": {
        "id": "PGYLErTY_zU4"
      },
      "source": [
        "model.compile(loss='categorical_crossentropy',optimizer='adam',metrics=['acc'])"
      ],
      "execution_count": null,
      "outputs": []
    },
    {
      "cell_type": "markdown",
      "metadata": {
        "id": "eK2N0tacR1mZ"
      },
      "source": [
        "### 학습"
      ]
    },
    {
      "cell_type": "code",
      "metadata": {
        "id": "THSlGz_WAg8R",
        "colab": {
          "base_uri": "https://localhost:8080/"
        },
        "outputId": "b258e6bd-330c-49b0-d02d-f93f128a5add"
      },
      "source": [
        "history=model.fit(x_train,y_train,batch_size=16,epochs=10) #"
      ],
      "execution_count": null,
      "outputs": [
        {
          "output_type": "stream",
          "name": "stdout",
          "text": [
            "Epoch 1/10\n",
            "3125/3125 [==============================] - 46s 15ms/step - loss: 0.9929 - acc: 0.6516\n",
            "Epoch 2/10\n",
            "3125/3125 [==============================] - 46s 15ms/step - loss: 0.9663 - acc: 0.6609\n",
            "Epoch 3/10\n",
            "3125/3125 [==============================] - 46s 15ms/step - loss: 0.9422 - acc: 0.6691\n",
            "Epoch 4/10\n",
            "3125/3125 [==============================] - 46s 15ms/step - loss: 0.9192 - acc: 0.6765\n",
            "Epoch 5/10\n",
            "3125/3125 [==============================] - 46s 15ms/step - loss: 0.8994 - acc: 0.6838\n",
            "Epoch 6/10\n",
            "3125/3125 [==============================] - 46s 15ms/step - loss: 0.8782 - acc: 0.6898\n",
            "Epoch 7/10\n",
            "3125/3125 [==============================] - 46s 15ms/step - loss: 0.8600 - acc: 0.6975\n",
            "Epoch 8/10\n",
            "3125/3125 [==============================] - 46s 15ms/step - loss: 0.8438 - acc: 0.7037\n",
            "Epoch 9/10\n",
            "3125/3125 [==============================] - 46s 15ms/step - loss: 0.8278 - acc: 0.7092\n",
            "Epoch 10/10\n",
            "3125/3125 [==============================] - 46s 15ms/step - loss: 0.8096 - acc: 0.7166\n"
          ]
        }
      ]
    },
    {
      "cell_type": "markdown",
      "metadata": {
        "id": "gm3EmDnuR_1l"
      },
      "source": [
        "### 평가"
      ]
    },
    {
      "cell_type": "code",
      "metadata": {
        "id": "rqQlCNKfD0_l",
        "colab": {
          "base_uri": "https://localhost:8080/"
        },
        "outputId": "17e9b8e4-61b1-43aa-ea9b-03005b02b644"
      },
      "source": [
        "\n",
        "model.evaluate(x_test,y_test)"
      ],
      "execution_count": null,
      "outputs": [
        {
          "output_type": "stream",
          "name": "stdout",
          "text": [
            "313/313 [==============================] - 6s 18ms/step - loss: 1.2010 - acc: 0.6070\n"
          ]
        },
        {
          "output_type": "execute_result",
          "data": {
            "text/plain": [
              "[1.2009669542312622, 0.6069999933242798]"
            ]
          },
          "metadata": {},
          "execution_count": 17
        }
      ]
    },
    {
      "cell_type": "markdown",
      "metadata": {
        "id": "yz4-Jh-FX1p5"
      },
      "source": [
        "* 시각화"
      ]
    },
    {
      "cell_type": "code",
      "metadata": {
        "id": "LlW5-XveNDl1",
        "colab": {
          "base_uri": "https://localhost:8080/",
          "height": 265
        },
        "outputId": "bed8f8f5-b1cb-4276-efd7-73d1f9e5e958"
      },
      "source": [
        "import matplotlib.pyplot as plt\n",
        "plt.plot(history.history['acc'])\n",
        "plt.plot(history.history['loss'])\n",
        "plt.show()"
      ],
      "execution_count": null,
      "outputs": [
        {
          "output_type": "display_data",
          "data": {
            "image/png": "[encoded data removed]",
            "text/plain": [
              "<Figure size 432x288 with 1 Axes>"
            ]
          },
          "metadata": {
            "needs_background": "light"
          }
        }
      ]
    },
    {
      "cell_type": "code",
      "metadata": {
        "id": "_pM4lJ9oNMGr"
      },
      "source": [
        ""
      ],
      "execution_count": null,
      "outputs": []
    }
  ]
}