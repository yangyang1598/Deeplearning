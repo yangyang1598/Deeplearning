{
  "nbformat": 4,
  "nbformat_minor": 0,
  "metadata": {
    "colab": {
      "name": "10_build_model_practice.ipynb",
      "provenance": [],
      "collapsed_sections": [],
      "include_colab_link": true
    },
    "kernelspec": {
      "name": "python3",
      "display_name": "Python 3"
    },
    "language_info": {
      "name": "python"
    }
  },
  "cells": [
    {
      "cell_type": "markdown",
      "metadata": {
        "id": "view-in-github",
        "colab_type": "text"
      },
      "source": [
        "<a href=\"https://colab.research.google.com/github/yangyang1598/Deeplearning/blob/main/10_build_model_practice.ipynb\" target=\"_parent\"><img src=\"https://colab.research.google.com/assets/colab-badge.svg\" alt=\"Open In Colab\"/></a>"
      ]
    },
    {
      "cell_type": "markdown",
      "metadata": {
        "id": "cdjoCFbiMePf"
      },
      "source": [
        "# 모델 구현"
      ]
    },
    {
      "cell_type": "code",
      "metadata": {
        "id": "FErXSNHsLspo"
      },
      "source": [
        "import tensorflow_datasets as tfds\n",
        "import tensorflow as tf\n",
        "from tensorflow.keras import applications\n",
        "from tensorflow.keras import layers, Model"
      ],
      "execution_count": 1,
      "outputs": []
    },
    {
      "cell_type": "markdown",
      "metadata": {
        "id": "IGAV3q0cMc0x"
      },
      "source": [
        "## 1. VGG 16\n",
        "\n",
        "![](https://github.com/yebiny/Lecture_deeplearning_basic/blob/main/imgs/10_vgg.png?raw=true)"
      ]
    },
    {
      "cell_type": "code",
      "metadata": {
        "id": "tHaX6B6IL7lg",
        "colab": {
          "base_uri": "https://localhost:8080/"
        },
        "outputId": "6eda2d7c-b763-475f-d03e-ff77fdcb7234"
      },
      "source": [
        "base_model=applications.vgg16.VGG16() #summary를 하기위해(VGG16만 쓰면 summary는 불가) vgg.VGG 형식으로 씀.\n",
        "base_model.summary()"
      ],
      "execution_count": 2,
      "outputs": [
        {
          "output_type": "stream",
          "name": "stdout",
          "text": [
            "Model: \"vgg16\"\n",
            "_________________________________________________________________\n",
            "Layer (type)                 Output Shape              Param #   \n",
            "=================================================================\n",
            "input_1 (InputLayer)         [(None, 224, 224, 3)]     0         \n",
            "_________________________________________________________________\n",
            "block1_conv1 (Conv2D)        (None, 224, 224, 64)      1792      \n",
            "_________________________________________________________________\n",
            "block1_conv2 (Conv2D)        (None, 224, 224, 64)      36928     \n",
            "_________________________________________________________________\n",
            "block1_pool (MaxPooling2D)   (None, 112, 112, 64)      0         \n",
            "_________________________________________________________________\n",
            "block2_conv1 (Conv2D)        (None, 112, 112, 128)     73856     \n",
            "_________________________________________________________________\n",
            "block2_conv2 (Conv2D)        (None, 112, 112, 128)     147584    \n",
            "_________________________________________________________________\n",
            "block2_pool (MaxPooling2D)   (None, 56, 56, 128)       0         \n",
            "_________________________________________________________________\n",
            "block3_conv1 (Conv2D)        (None, 56, 56, 256)       295168    \n",
            "_________________________________________________________________\n",
            "block3_conv2 (Conv2D)        (None, 56, 56, 256)       590080    \n",
            "_________________________________________________________________\n",
            "block3_conv3 (Conv2D)        (None, 56, 56, 256)       590080    \n",
            "_________________________________________________________________\n",
            "block3_pool (MaxPooling2D)   (None, 28, 28, 256)       0         \n",
            "_________________________________________________________________\n",
            "block4_conv1 (Conv2D)        (None, 28, 28, 512)       1180160   \n",
            "_________________________________________________________________\n",
            "block4_conv2 (Conv2D)        (None, 28, 28, 512)       2359808   \n",
            "_________________________________________________________________\n",
            "block4_conv3 (Conv2D)        (None, 28, 28, 512)       2359808   \n",
            "_________________________________________________________________\n",
            "block4_pool (MaxPooling2D)   (None, 14, 14, 512)       0         \n",
            "_________________________________________________________________\n",
            "block5_conv1 (Conv2D)        (None, 14, 14, 512)       2359808   \n",
            "_________________________________________________________________\n",
            "block5_conv2 (Conv2D)        (None, 14, 14, 512)       2359808   \n",
            "_________________________________________________________________\n",
            "block5_conv3 (Conv2D)        (None, 14, 14, 512)       2359808   \n",
            "_________________________________________________________________\n",
            "block5_pool (MaxPooling2D)   (None, 7, 7, 512)         0         \n",
            "_________________________________________________________________\n",
            "flatten (Flatten)            (None, 25088)             0         \n",
            "_________________________________________________________________\n",
            "fc1 (Dense)                  (None, 4096)              102764544 \n",
            "_________________________________________________________________\n",
            "fc2 (Dense)                  (None, 4096)              16781312  \n",
            "_________________________________________________________________\n",
            "predictions (Dense)          (None, 1000)              4097000   \n",
            "=================================================================\n",
            "Total params: 138,357,544\n",
            "Trainable params: 138,357,544\n",
            "Non-trainable params: 0\n",
            "_________________________________________________________________\n"
          ]
        }
      ]
    },
    {
      "cell_type": "code",
      "metadata": {
        "colab": {
          "base_uri": "https://localhost:8080/"
        },
        "id": "oeX-jUSJbu55",
        "outputId": "d7741635-006e-4167-9cbc-cd078d54dfb0"
      },
      "source": [
        "from tensorflow.keras import layers, models\n",
        "\n",
        "def conv2d(x, d=64):\n",
        "  y=layers.Conv2D(d, 3, padding=\"same\", activation='relu')(x)\n",
        "  return y\n",
        "\n",
        "def maxpool(x, size=(1,1), stride=(1,1)):\n",
        "  y=layers.MaxPooling2D(pool_size=size, strides=stride)(x)\n",
        "  return y\n",
        "\n",
        "def flatten(x,input=[7,7,512]):\n",
        "  y=layers.Flatten(input_shape=input)(x)\n",
        "  return y\n",
        "\n",
        "def dense(x,input=4096,activation='softmax'):\n",
        "  y=layers.Dense(input,activation=activation)(x)\n",
        "  return y\n",
        "\n",
        "x=layers.Input(shape=(224,224,3))\n",
        "\n",
        "y=conv2d(x)\n",
        "y=conv2d(y)\n",
        "y=maxpool(y,stride=(2,2))\n",
        "\n",
        "y=conv2d(y,d=128)\n",
        "y=conv2d(y,d=128)\n",
        "y=maxpool(y,stride=(2,2))\n",
        "\n",
        "\n",
        "y=conv2d(y,d=256)\n",
        "y=conv2d(y,d=256)\n",
        "y=conv2d(y,d=256)\n",
        "y=maxpool(y,stride=(2,2))\n",
        "\n",
        "\n",
        "y=conv2d(y,d=512)\n",
        "y=conv2d(y,d=512)\n",
        "y=conv2d(y,d=512)\n",
        "y=maxpool(y,stride=(2,2))\n",
        "\n",
        "\n",
        "y=conv2d(y,d=512)\n",
        "y=conv2d(y,d=512)\n",
        "y=conv2d(y,d=512)\n",
        "y=maxpool(y,stride=(2,2))\n",
        "\n",
        "y=flatten(y)\n",
        "y=dense(y)\n",
        "y=dense(y)\n",
        "y=dense(y,input=1000)\n",
        "\n",
        "\n",
        "model = models.Model(x, y)\n",
        "model.summary()"
      ],
      "execution_count": 6,
      "outputs": [
        {
          "output_type": "stream",
          "name": "stdout",
          "text": [
            "Model: \"model_2\"\n",
            "_________________________________________________________________\n",
            "Layer (type)                 Output Shape              Param #   \n",
            "=================================================================\n",
            "input_4 (InputLayer)         [(None, 224, 224, 3)]     0         \n",
            "_________________________________________________________________\n",
            "conv2d_29 (Conv2D)           (None, 224, 224, 64)      1792      \n",
            "_________________________________________________________________\n",
            "conv2d_30 (Conv2D)           (None, 224, 224, 64)      36928     \n",
            "_________________________________________________________________\n",
            "max_pooling2d_10 (MaxPooling (None, 112, 112, 64)      0         \n",
            "_________________________________________________________________\n",
            "conv2d_31 (Conv2D)           (None, 112, 112, 128)     73856     \n",
            "_________________________________________________________________\n",
            "conv2d_32 (Conv2D)           (None, 112, 112, 128)     147584    \n",
            "_________________________________________________________________\n",
            "max_pooling2d_11 (MaxPooling (None, 56, 56, 128)       0         \n",
            "_________________________________________________________________\n",
            "conv2d_33 (Conv2D)           (None, 56, 56, 256)       295168    \n",
            "_________________________________________________________________\n",
            "conv2d_34 (Conv2D)           (None, 56, 56, 256)       590080    \n",
            "_________________________________________________________________\n",
            "conv2d_35 (Conv2D)           (None, 56, 56, 256)       590080    \n",
            "_________________________________________________________________\n",
            "max_pooling2d_12 (MaxPooling (None, 28, 28, 256)       0         \n",
            "_________________________________________________________________\n",
            "conv2d_36 (Conv2D)           (None, 28, 28, 512)       1180160   \n",
            "_________________________________________________________________\n",
            "conv2d_37 (Conv2D)           (None, 28, 28, 512)       2359808   \n",
            "_________________________________________________________________\n",
            "conv2d_38 (Conv2D)           (None, 28, 28, 512)       2359808   \n",
            "_________________________________________________________________\n",
            "max_pooling2d_13 (MaxPooling (None, 14, 14, 512)       0         \n",
            "_________________________________________________________________\n",
            "conv2d_39 (Conv2D)           (None, 14, 14, 512)       2359808   \n",
            "_________________________________________________________________\n",
            "conv2d_40 (Conv2D)           (None, 14, 14, 512)       2359808   \n",
            "_________________________________________________________________\n",
            "conv2d_41 (Conv2D)           (None, 14, 14, 512)       2359808   \n",
            "_________________________________________________________________\n",
            "max_pooling2d_14 (MaxPooling (None, 7, 7, 512)         0         \n",
            "_________________________________________________________________\n",
            "flatten_2 (Flatten)          (None, 25088)             0         \n",
            "_________________________________________________________________\n",
            "dense_5 (Dense)              (None, 4096)              102764544 \n",
            "_________________________________________________________________\n",
            "dense_6 (Dense)              (None, 4096)              16781312  \n",
            "_________________________________________________________________\n",
            "dense_7 (Dense)              (None, 1000)              4097000   \n",
            "=================================================================\n",
            "Total params: 138,357,544\n",
            "Trainable params: 138,357,544\n",
            "Non-trainable params: 0\n",
            "_________________________________________________________________\n"
          ]
        }
      ]
    },
    {
      "cell_type": "code",
      "metadata": {
        "id": "7EERKYfGMFdf",
        "colab": {
          "base_uri": "https://localhost:8080/"
        },
        "outputId": "49989411-a554-421f-bb29-86251306b901"
      },
      "source": [
        "\n",
        "from tensorflow.keras import layers, Model\n",
        "model=tf.keras.models.Sequential()\n",
        "conv2d=layers.Conv2D(input_shape=(224,224,3),\n",
        "                 filters=64\n",
        "                 ,kernel_size=3\n",
        "                 ,padding='same'\n",
        "                 ,activation='relu')\n",
        "model.add(layers.Conv2D(input_shape=(224,224,3),\n",
        "                 filters=64\n",
        "                 ,kernel_size=3\n",
        "                 ,padding='same'\n",
        "                 ,activation='relu'))#padding-> 보통 딥러닝 과정을 거치면 원본보다 작게 새로 생성을 하는 데 원본보다 큰 것과 원본을 곱해 결과물이 '원본사이즈'로 생성됨\n",
        "model.add(layers.Conv2D(filters=64\n",
        "                 ,kernel_size=3\n",
        "                 ,padding='same'\n",
        "                 ,activation='relu'))\n",
        "model.add(conv2d)\n",
        "model.add(conv2d)\n",
        "model.add(conv2d)\n",
        "model.summary()"
      ],
      "execution_count": 4,
      "outputs": [
        {
          "output_type": "stream",
          "name": "stdout",
          "text": [
            "Model: \"sequential\"\n",
            "_________________________________________________________________\n",
            "Layer (type)                 Output Shape              Param #   \n",
            "=================================================================\n",
            "conv2d_14 (Conv2D)           (None, 224, 224, 64)      1792      \n",
            "_________________________________________________________________\n",
            "conv2d_15 (Conv2D)           (None, 224, 224, 64)      36928     \n",
            "_________________________________________________________________\n",
            "conv2d_13 (Conv2D)           (None, 224, 224, 64)      36928     \n",
            "=================================================================\n",
            "Total params: 75,648\n",
            "Trainable params: 75,648\n",
            "Non-trainable params: 0\n",
            "_________________________________________________________________\n"
          ]
        }
      ]
    },
    {
      "cell_type": "markdown",
      "metadata": {
        "id": "fNJqQx_pMz6Y"
      },
      "source": [
        "## 2. MobileNET\n",
        "\n",
        "![](https://github.com/yebiny/Lecture_deeplearning_basic/blob/main/imgs/10_dense.png?raw=true)"
      ]
    },
    {
      "cell_type": "code",
      "metadata": {
        "id": "YGmD1Uq9M3SX"
      },
      "source": [
        ""
      ],
      "execution_count": 4,
      "outputs": []
    },
    {
      "cell_type": "markdown",
      "metadata": {
        "id": "_AjZc5paMl9_"
      },
      "source": [
        "## 3. DenseNET"
      ]
    },
    {
      "cell_type": "code",
      "metadata": {
        "id": "skZYJjcoL_T3"
      },
      "source": [
        ""
      ],
      "execution_count": 4,
      "outputs": []
    }
  ]
}